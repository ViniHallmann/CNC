{
 "cells": [
  {
   "cell_type": "code",
   "execution_count": 16,
   "metadata": {},
   "outputs": [],
   "source": [
    "from math import e as euler\n",
    "import pandas as pd\n",
    "import numpy as np\n",
    "import matplotlib.pyplot as plt\n",
    "from IPython.display import display"
   ]
  },
  {
   "cell_type": "markdown",
   "metadata": {},
   "source": [
    "NEWTON-RAPHSON"
   ]
  },
  {
   "cell_type": "code",
   "execution_count": 17,
   "metadata": {},
   "outputs": [],
   "source": [
    "\n",
    "\n",
    "def f(x):\n",
    "    return x**3 - 9*x + 3\n",
    "\n",
    "def df(x):\n",
    "    return 3*x**2 - 9\n",
    "\n",
    "def newton_raphson( x0, e = None, n = None ):\n",
    "\n",
    "    for iteration in range(1, n):\n",
    "    #while e is not None and abs (function(x0)) > e:\n",
    "        i = x0 - (f(x0)/df(x0))\n",
    "        #if abs(function(x1)) < e:\n",
    "           # break\n",
    "       # else:\n",
    "          #  if (x1 - x0) > e:\n",
    "              #  break\n",
    "        x0 = i\n",
    "    \n",
    "    return x0\n"
   ]
  },
  {
   "cell_type": "code",
   "execution_count": 18,
   "metadata": {},
   "outputs": [
    {
     "name": "stdout",
     "output_type": "stream",
     "text": [
      "0.3376089515734314\n"
     ]
    }
   ],
   "source": [
    "\n",
    "if __name__ == '__main__':\n",
    "    try:\n",
    "        root = newton_raphson( 0.75, None, 4 )\n",
    "        print(root)\n",
    "\n",
    "    except ValueError as e:\n",
    "        print( e )"
   ]
  }
 ],
 "metadata": {
  "kernelspec": {
   "display_name": "Python 3",
   "language": "python",
   "name": "python3"
  },
  "language_info": {
   "codemirror_mode": {
    "name": "ipython",
    "version": 3
   },
   "file_extension": ".py",
   "mimetype": "text/x-python",
   "name": "python",
   "nbconvert_exporter": "python",
   "pygments_lexer": "ipython3",
   "version": "3.12.0"
  }
 },
 "nbformat": 4,
 "nbformat_minor": 2
}
