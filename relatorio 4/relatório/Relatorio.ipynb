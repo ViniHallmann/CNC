{
 "cells": [
  {
   "cell_type": "markdown",
   "metadata": {},
   "source": [
    "<center><h3>Universidade Federal de Pelotas - Cursos de Ciência e Engenharia de Computação</h3></center> \n",
    "<center><h4>Disciplina: Cálculo Numérico Computacional Profa. Larissa A. de Freitas</h4> </center> "
   ]
  },
  {
   "cell_type": "markdown",
   "metadata": {},
   "source": [
    "<center><h2><strong>Relatório 4 – Diferenciação e Integração Numérica<strong></h2> </center> \n",
    "\n",
    "<center><h3> Aluno: Vinícius Hallmann</h3></center>"
   ]
  },
  {
   "cell_type": "markdown",
   "metadata": {},
   "source": [
    "### **Imports** ###"
   ]
  },
  {
   "cell_type": "code",
   "execution_count": 152,
   "metadata": {},
   "outputs": [],
   "source": [
    "import math\n",
    "import numpy as np\n",
    "import pandas as pd\n",
    "from tabulate import tabulate\n",
    "import matplotlib.pyplot as plt"
   ]
  },
  {
   "cell_type": "markdown",
   "metadata": {},
   "source": [
    "### **Métodos** ###"
   ]
  },
  {
   "cell_type": "markdown",
   "metadata": {},
   "source": [
    "#### **Trapézio** ####"
   ]
  },
  {
   "cell_type": "code",
   "execution_count": 153,
   "metadata": {},
   "outputs": [],
   "source": [
    "trap = lambda h, f0, f1: h*( f0 + f1 )/2\n",
    "\n",
    "def multi_trap( h, n, f ):\n",
    "    sum = f[0]\n",
    "    for i in range( 1, n ):\n",
    "        sum += 2 * f[i]\n",
    "    sum += f[n]\n",
    "    return h * sum / 2"
   ]
  },
  {
   "cell_type": "markdown",
   "metadata": {},
   "source": [
    "#### **Simpson** ####"
   ]
  },
  {
   "cell_type": "code",
   "execution_count": 154,
   "metadata": {},
   "outputs": [],
   "source": [
    "simp13 = lambda h, f0, f1, f2: 2*h*(f0 + 4*f1 + f2)/6\n",
    "\n",
    "simp38 = lambda h, f0, f1, f2, f3: 3*h*(f0 + 3*(f1+f2) + f3)/8\n",
    "\n",
    "def multi_simp_13( h, n, f ):\n",
    "    sum = f[0]\n",
    "    for i in range( 1, n-1, 2 ):\n",
    "        sum += 4*f[i] + 2*f[i+1]\n",
    "    sum += 4*f[n-1] + f[n]\n",
    "    return h*sum/3\n",
    "\n",
    "def simp_int( a, b, n, f ):\n",
    "    h = ( b - a )/n\n",
    "    sum = 0\n",
    "    if n == 1:\n",
    "        sum = trap(h,f[n-1],f[n])\n",
    "    else:\n",
    "        m = n\n",
    "        odd = n / 2 - int(n / 2)\n",
    "        if odd > 0 and n > 1:\n",
    "            sum += simp38(h,f[n-3],f[n-2],f[n-1],f[n])\n",
    "            m = n - 3\n",
    "    \n",
    "    if m > 1:\n",
    "        sum += multi_simp_13(h,m,f)\n",
    "    \n",
    "    return sum"
   ]
  },
  {
   "cell_type": "markdown",
   "metadata": {},
   "source": [
    "#### **Euler** ####"
   ]
  },
  {
   "cell_type": "code",
   "execution_count": 155,
   "metadata": {},
   "outputs": [],
   "source": [
    "def euler( func, interval: np.array, y0: int, m: int, h: float = 0.1) -> np.array:\n",
    "    \n",
    "    h = ( interval[1] - interval[0] ) / m\n",
    "    x = interval[0]\n",
    "    y = y0\n",
    "    vet_x = [x]\n",
    "    vet_y = [y]\n",
    "    fxy = func( x,y )\n",
    "    for i in range( 1, m + 1 ):\n",
    "        x = interval[0] + i * h\n",
    "        y = y + h * fxy\n",
    "        fxy = func( x,y )\n",
    "        vet_x.append( x )\n",
    "        vet_y.append( y )\n",
    "        \n",
    "    return vet_x, vet_y"
   ]
  },
  {
   "cell_type": "markdown",
   "metadata": {},
   "source": [
    "### **Questão 1** ###"
   ]
  },
  {
   "cell_type": "markdown",
   "metadata": {},
   "source": [
    "O   trabalho   realizado   por   uma   força   F(x)   cujo   ângulo   entre   a   direção   do movimento e a força é dado por θ(x), pode ser obtido pela seguinte fórmula: \n",
    "\n",
    "$$\n",
    "W = \\int_{x_0}^{x_n} F(x) \\cos(\\theta(x)) \\, dx\n",
    "$$\n",
    "\n",
    "Em que x₀ e xₙ são as posições inicial e final, respectivamente. Calcule a melhor aproximação ao trabalho realizado, W, ao puxar um bloco da posição 0 até à posição 30 sabendo que a força aplicada e o ângulo usado são dados na tabela seguinte.\n",
    "\n",
    "| X    |  0  |  2.5  |  5  |  15  |  20  |  25  |  30  |\n",
    "|------|-----|-------|-----|------|------|------|------|\n",
    "| f(x) |  0  |   7   |  9  |  14  | 10.5 |  12  |   5  |\n",
    "| θ(x) | 0.5 |  0.9  | 1.4 |  0.9 |  1.3 | 1.48 |  1.5 |"
   ]
  },
  {
   "cell_type": "markdown",
   "metadata": {},
   "source": [
    "**Observação: Verificam-se 3 grupos de espaçamentos distintos.**"
   ]
  },
  {
   "cell_type": "code",
   "execution_count": 156,
   "metadata": {},
   "outputs": [],
   "source": [
    "x_values      = np.array( [  0, 2.5,   5,  15,   20,  25,   30], dtype=float )\n",
    "f_values      = np.array( [  0,   7,   9,  14, 10.5,  12,    5], dtype=float )\n",
    "theta_degrees = np.array( [0.5, 0.9, 1.4, 0.9,  1.3, 1.48, 1.5], dtype=float )\n",
    "\n",
    "theta_radians = []\n",
    "for degrees in theta_degrees:\n",
    "    theta_radians.append( math.radians( degrees ) )\n",
    "    \n",
    "f_cos_values = []\n",
    "for i in range( len( f_values ) ):\n",
    "    f_cos_values.append( f_values[i] * math.cos( theta_degrees[i] ) )"
   ]
  },
  {
   "cell_type": "markdown",
   "metadata": {},
   "source": [
    "#### **Aplicar o Método de 1/3 de Simpson Repetido no Grupo 1, o qual possui 2 subintervalos, h = 2,5.** #### \n"
   ]
  },
  {
   "cell_type": "code",
   "execution_count": 157,
   "metadata": {},
   "outputs": [
    {
     "name": "stdout",
     "output_type": "stream",
     "text": [
      "15.778986164733977\n"
     ]
    }
   ],
   "source": [
    "W = multi_simp_13( 2.5, len( f_cos_values[:3]) - 1, f_cos_values[:3] )\n",
    "print( W )"
   ]
  },
  {
   "cell_type": "markdown",
   "metadata": {},
   "source": [
    "#### **Aplicar   o   Método   do   Trapézio   Repetido   no   Grupo   2,   o   qual   possui   1 subintervalo, h = 10.** #### \n"
   ]
  },
  {
   "cell_type": "code",
   "execution_count": 158,
   "metadata": {},
   "outputs": [
    {
     "name": "stdout",
     "output_type": "stream",
     "text": [
      "51.16121920945736\n"
     ]
    }
   ],
   "source": [
    "W = multi_trap( 10, len( f_cos_values[2:4] ) - 1, f_cos_values[2:4] )\n",
    "print( W )"
   ]
  },
  {
   "cell_type": "markdown",
   "metadata": {},
   "source": [
    "#### **Aplicar o Método do 3/8 Simpson Repetido no Grupo 3, o qual possui 3 subintervalos, h = 5.** #### "
   ]
  },
  {
   "cell_type": "code",
   "execution_count": 159,
   "metadata": {},
   "outputs": [
    {
     "name": "stdout",
     "output_type": "stream",
     "text": [
      "38.89990714972025\n"
     ]
    }
   ],
   "source": [
    "W = simp_int( 15, 30, len( f_cos_values[3:] ) - 1, f_cos_values[3:] )\n",
    "print( W )"
   ]
  },
  {
   "cell_type": "markdown",
   "metadata": {},
   "source": [
    "Somando todos os valores temos: $$ Wtotal = 15.778986164733977 + 51.16121920945736 + 38.89990714972025 = 105.840112524 $$"
   ]
  },
  {
   "cell_type": "markdown",
   "metadata": {},
   "source": [
    "### **Questão 2** ###"
   ]
  },
  {
   "cell_type": "markdown",
   "metadata": {},
   "source": [
    "Para os problemas de valor inicial, calcule   **y(0,5**)   para   o   problema   A   e   **y(0,2)**   para   o   problema   B   usando   o Método de Euler.  Considere h = **0,1** e h = **0,05**."
   ]
  },
  {
   "cell_type": "markdown",
   "metadata": {},
   "source": [
    "#### **Problema A** #####\n",
    "$$\n",
    "\\begin{array}{ll}  \n",
    "    y' = x^2 + y^2 \\\\\n",
    "    y(0) = 0 \\\\\n",
    "\\end{array}\n",
    "$$\n",
    "\n"
   ]
  },
  {
   "cell_type": "code",
   "execution_count": 160,
   "metadata": {},
   "outputs": [],
   "source": [
    "f = lambda x, y: x**2 + y**2\n",
    "interval = np.array( [0, 0.5], dtype=float )\n",
    "y0 = 0\n",
    "\n",
    "xa1, ya1 = euler( f, interval, y0, 5 )\n",
    "xa2, ya2 = euler( f, interval, y0, 10 )\n",
    "\n",
    "ra1 = pd.DataFrame( {'x': np.round( xa1, 3 ), 'y': np.round( ya1, 5 )} )\n",
    "ra2 = pd.DataFrame( {'x': np.round( xa2, 3 ), 'y': np.round( ya2, 5 )} )\n",
    "ra = pd.concat( [ra1,ra2], axis=1, keys=['0.1','0.05'] )"
   ]
  },
  {
   "cell_type": "markdown",
   "metadata": {},
   "source": [
    "Considerando h = **0.1** o valor de y( 0, 5) é de 0.03002. Já com h = **0.05** chegamos a um valor de y = 0.03568"
   ]
  },
  {
   "cell_type": "markdown",
   "metadata": {},
   "source": [
    "\n",
    "#### **Problema B** #####\n",
    "$$\n",
    "\\begin{array}{ll}  \n",
    "    y’ = x + y \\\\\n",
    "    y(0) = 1\\\\\n",
    "\\end{array}\n",
    "$$"
   ]
  },
  {
   "cell_type": "code",
   "execution_count": 161,
   "metadata": {},
   "outputs": [],
   "source": [
    "f = lambda x, y: x + y\n",
    "interval = np.array( [0, 0.2], dtype=float )\n",
    "y0 = 1\n",
    "\n",
    "xb1, yb1 = euler( f, interval, y0, 2 )\n",
    "xb2, yb2 = euler( f, interval, y0, 4 )\n",
    "\n",
    "rb1 = pd.DataFrame( {'x': np.round( xb1, 3 ), 'y': np.round( yb1, 5 )} )\n",
    "rb2 = pd.DataFrame( {'x': np.round( xb2, 3 ), 'y': np.round( yb2, 5 )} )\n",
    "rb = pd.concat( [rb1, rb2], axis=1, keys=['0.1','0.05'] )\n"
   ]
  },
  {
   "cell_type": "markdown",
   "metadata": {},
   "source": [
    "Considerando h = **0.1** ao se aproximar de 0.2 o valor de y é aproximadamente 1.22. Já considerando h = **0.05** chegamos a um valor de y aproximado em 1.231"
   ]
  },
  {
   "cell_type": "markdown",
   "metadata": {},
   "source": [
    "#### **Compare os resultados obtidos na letra do problema A e B com h = 0,1 e h = 0,05.** ####"
   ]
  },
  {
   "cell_type": "markdown",
   "metadata": {},
   "source": [
    "##### **Tabela Resultados A** #####"
   ]
  },
  {
   "cell_type": "code",
   "execution_count": 162,
   "metadata": {},
   "outputs": [
    {
     "name": "stdout",
     "output_type": "stream",
     "text": [
      "+----+--------------+--------------+---------------+---------------+\n",
      "|    | ('0.1', 'x') | ('0.1', 'y') | ('0.05', 'x') | ('0.05', 'y') |\n",
      "+----+--------------+--------------+---------------+---------------+\n",
      "| 0  |     0.0      |     0.0      |      0.0      |      0.0      |\n",
      "| 1  |     0.1      |     0.0      |     0.05      |      0.0      |\n",
      "| 2  |     0.2      |    0.001     |      0.1      |    0.00013    |\n",
      "| 3  |     0.3      |    0.005     |     0.15      |    0.00063    |\n",
      "| 4  |     0.4      |    0.014     |      0.2      |    0.00175    |\n",
      "| 5  |     0.5      |   0.03002    |     0.25      |    0.00375    |\n",
      "| 6  |     nan      |     nan      |      0.3      |    0.00688    |\n",
      "| 7  |     nan      |     nan      |     0.35      |    0.01138    |\n",
      "| 8  |     nan      |     nan      |      0.4      |    0.01751    |\n",
      "| 9  |     nan      |     nan      |     0.45      |    0.02553    |\n",
      "| 10 |     nan      |     nan      |      0.5      |    0.03568    |\n",
      "+----+--------------+--------------+---------------+---------------+\n"
     ]
    }
   ],
   "source": [
    "print( tabulate ( ra, headers='keys', tablefmt='pretty', showindex=True ) )"
   ]
  },
  {
   "cell_type": "markdown",
   "metadata": {},
   "source": [
    "##### **Tabela Resultados B** #####"
   ]
  },
  {
   "cell_type": "code",
   "execution_count": 163,
   "metadata": {},
   "outputs": [
    {
     "name": "stdout",
     "output_type": "stream",
     "text": [
      "+---+--------------+--------------+---------------+---------------+\n",
      "|   | ('0.1', 'x') | ('0.1', 'y') | ('0.05', 'x') | ('0.05', 'y') |\n",
      "+---+--------------+--------------+---------------+---------------+\n",
      "| 0 |     0.0      |     1.0      |      0.0      |      1.0      |\n",
      "| 1 |     0.1      |     1.1      |     0.05      |     1.05      |\n",
      "| 2 |     0.2      |     1.22     |      0.1      |     1.105     |\n",
      "| 3 |     nan      |     nan      |     0.15      |    1.16525    |\n",
      "| 4 |     nan      |     nan      |      0.2      |    1.23101    |\n",
      "+---+--------------+--------------+---------------+---------------+\n"
     ]
    }
   ],
   "source": [
    "print( tabulate ( rb, headers='keys', tablefmt='pretty', showindex=True ) )"
   ]
  },
  {
   "cell_type": "markdown",
   "metadata": {},
   "source": [
    "#### **Precisão dos Resultados** ####\n"
   ]
  },
  {
   "cell_type": "markdown",
   "metadata": {},
   "source": [
    "\n",
    "Passo maior ( ℎ = 0.1 ):\n",
    "\n",
    " - Problema A: O valor de y( 0.5 ) é 0.03002.  ( 5 execuções )\n",
    "\n",
    " - Problema B: O valor de y( 0.2 ) é 1.22.     ( 3 execuções )\n",
    "\n",
    "\n",
    "Passo menor ( ℎ = 0.05 ):\n",
    "\n",
    " - Problema A: O valor de y(0.5) é 0.03568.    ( 10 execuções )\n",
    "\n",
    " - Problema B: O valor de y(0.2) é 1.231.      (  5 execuções )\n",
    "\n",
    "\n",
    "Usar um passo menor geralmente resulta em uma maior precisão, pois o método de Euler aproxima melhor a solução verdadeira ao tomar passos mais pequenos. No entanto, isso vem ao custo de realizar mais cálculos, o que pode aumentar o tempo de computação."
   ]
  }
 ],
 "metadata": {
  "kernelspec": {
   "display_name": "Python 3",
   "language": "python",
   "name": "python3"
  },
  "language_info": {
   "codemirror_mode": {
    "name": "ipython",
    "version": 3
   },
   "file_extension": ".py",
   "mimetype": "text/x-python",
   "name": "python",
   "nbconvert_exporter": "python",
   "pygments_lexer": "ipython3",
   "version": "3.12.0"
  }
 },
 "nbformat": 4,
 "nbformat_minor": 2
}
