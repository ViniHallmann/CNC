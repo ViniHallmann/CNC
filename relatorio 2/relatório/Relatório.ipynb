{
 "cells": [
  {
   "cell_type": "markdown",
   "metadata": {},
   "source": [
    "<center><h3>Universidade Federal de Pelotas - Cursos de Ciência e Engenharia de Computação</h3></center> \n",
    "<center><h4>Disciplina: Cálculo Numérico Computacional Profa. Larissa A. de Freitas</h4> </center> "
   ]
  },
  {
   "cell_type": "markdown",
   "metadata": {},
   "source": [
    "<center><h2><strong>Relatório 2 – Sistemas de Equações Lineares<strong></h2> </center> \n",
    "\n",
    "<center><h3> Aluno: Vinícius Hallmann</h3></center>"
   ]
  },
  {
   "cell_type": "markdown",
   "metadata": {},
   "source": [
    "# **Imports** #"
   ]
  },
  {
   "cell_type": "code",
   "execution_count": 997,
   "metadata": {},
   "outputs": [],
   "source": [
    "import numpy as np\n",
    "import matplotlib.pyplot as plt\n",
    "from math import asin as asin\n",
    "from math import exp as exp"
   ]
  },
  {
   "cell_type": "markdown",
   "metadata": {},
   "source": [
    "# **Funções Auxiliares** #"
   ]
  },
  {
   "cell_type": "code",
   "execution_count": 998,
   "metadata": {},
   "outputs": [],
   "source": [
    "def print_solutions( solutions ) -> None:\n",
    "    for i, solution in enumerate(solutions):\n",
    "        #print(f\"x{i+1} = {solution}\")\n",
    "        print( f\"x{i+1} = {np.round( solution, 3 )}\" )\n",
    "    \n",
    "def create_concatenated_matrix( A:np.array, B:np.array ) -> np.array: return np.concatenate( ( A, B ), axis=1, dtype=float )\n",
    "\n",
    "def gauss_partial_pivot( matrix ) -> np.array:\n",
    "    num_equations = len( matrix )\n",
    "    for current_row in range( num_equations ):\n",
    "        max_index = np.argmax(abs(matrix[current_row:num_equations, current_row])) + current_row\n",
    "        if current_row != max_index: matrix[[current_row, max_index]] = matrix[[max_index, current_row]]\n",
    "    return matrix\n",
    "\n",
    "def gauss_forward_elimination( matrix:np.array ) -> np.array:\n",
    "    num_equations = matrix.shape[0]\n",
    "    for current_row in range( num_equations ):\n",
    "        if matrix[current_row][current_row] == 0:\n",
    "            raise ValueError(\"Zero pivot encountered, requiring pivoting or different approach.\")\n",
    "        for target_row in range( current_row+1, num_equations ):\n",
    "            multiplier = matrix[target_row][current_row]/matrix[current_row][current_row]\n",
    "            matrix[target_row] = matrix[target_row] - ( multiplier * matrix[current_row] )\n",
    "    return matrix\n",
    "\n",
    "def gauss_backward_substitution( matrix ) -> np.array:\n",
    "    num_equations = matrix.shape[0]\n",
    "    solutions = np.zeros( num_equations )\n",
    "    solutions[-1] = matrix[-1, -1] / matrix[-1, -2]\n",
    "    for row in range( num_equations - 1, -1, -1 ):\n",
    "        if matrix[row][row] == 0:\n",
    "            if matrix[row, -1] != 0:\n",
    "                raise ValueError(\"No solution\")\n",
    "            continue\n",
    "        solutions[row] = matrix[row, -1]\n",
    "        for col in range( row + 1, num_equations ):\n",
    "            solutions[row] -= matrix[row, col] * solutions[col]\n",
    "        solutions[row] /= matrix[row, row]\n",
    "    return solutions\n",
    "\n",
    "def lu_forward_substitution( L: np.array, B ) -> np.array:\n",
    "  return np.linalg.solve( L, B )\n",
    "\n",
    "def lu_backward_substitution( U: np.array, Y ) -> np.array:\n",
    "  return np.linalg.solve( U, Y )\n",
    "\n",
    "def create_identity_matrix(size: int) -> np.array:\n",
    "    return np.eye(size, dtype=float)\n",
    "\n",
    "def lu_partial_pivot( matrix: np.array, pivot_row: int ) -> np.array:\n",
    "    size = matrix.shape[0]\n",
    "    max_index = np.argmax(np.abs(matrix[pivot_row:, pivot_row])) + pivot_row\n",
    "    if max_index != pivot_row:\n",
    "        matrix[[pivot_row, max_index]] = matrix[[max_index, pivot_row]]\n",
    "    return matrix\n",
    "\n",
    "def is_symetric( matrix: np.array ) -> bool:\n",
    "    return (matrix == matrix.T).all()\n",
    "\n",
    "def plot_graph( x: np.array, y: np.array, title: str, history ) -> None:\n",
    "    plt.plot( x, y, 'o-' )\n",
    "    plt.title( title )\n",
    "    plt.grid()\n",
    "    plt.show()\n",
    "\n",
    "def plot_graph(history, method: str) -> None:\n",
    "    x_values_jacobi = [x[0] for x in history]\n",
    "    y_values_jacobi = [x[1] for x in history]\n",
    "    plt.figure(figsize=(10, 6))\n",
    "    plt.plot(x_values_jacobi, y_values_jacobi, marker='o', label= method)\n",
    "    plt.xlabel('x1')\n",
    "    plt.ylabel('x2')\n",
    "    plt.title(method)\n",
    "    plt.legend()\n",
    "    plt.grid(True)\n",
    "    plt.show()\n",
    "\n",
    "\n",
    "green_color = \"\\033[32m\"  \n",
    "blue_color = \"\\033[34m\"   \n",
    "red_color = \"\\033[31m\"    \n",
    "reset_color = \"\\033[0m\" "
   ]
  },
  {
   "cell_type": "markdown",
   "metadata": {},
   "source": [
    "# **Métodos** #"
   ]
  },
  {
   "cell_type": "code",
   "execution_count": 999,
   "metadata": {},
   "outputs": [],
   "source": [
    "def gauss_elimination( A:np.array, B:np.array, use_pivot:bool = False ) -> np.array:\n",
    "    concatenated_matrix = create_concatenated_matrix( A, B )\n",
    "    if use_pivot: concatenated_matrix = gauss_partial_pivot( concatenated_matrix )\n",
    "    concatenated_matrix = gauss_forward_elimination( concatenated_matrix )\n",
    "    solutions = gauss_backward_substitution( concatenated_matrix )\n",
    "    return solutions\n",
    "\n",
    "def flu( matrix: np.array, use_pivot: bool = False ) -> list[np.array, np.array]:\n",
    "    U = np.copy( matrix )\n",
    "    size = U.shape[0]\n",
    "    L = create_identity_matrix( size )\n",
    "    \n",
    "    for pivot_row in range( size - 1 ):\n",
    "        if use_pivot:\n",
    "            U = lu_partial_pivot(U, pivot_row)\n",
    "        for target_row in range( pivot_row + 1, size ):\n",
    "            multiplier = U[target_row, pivot_row] / U[pivot_row, pivot_row]\n",
    "            L[target_row, pivot_row] = multiplier\n",
    "            \n",
    "            for col in range( pivot_row + 1, size ):\n",
    "                U[target_row, col] -= multiplier * U[pivot_row, col]\n",
    "                \n",
    "            U[target_row, pivot_row] = 0\n",
    "    \n",
    "    return L, U\n",
    "\n",
    "def gauss_jacobi( matrix: np.array, b_vector: np.array, initial_guess: np.array, tolerance: float, iterations: int ) -> np.array:\n",
    "    current_solution = np.copy( initial_guess )\n",
    "    size = matrix.shape[0]\n",
    "    history = [current_solution.copy()]\n",
    "\n",
    "    for iter in range( iterations ):\n",
    "        new_solution = np.copy( current_solution )\n",
    "        \n",
    "        for row in range( size ):\n",
    "            sum_values = b_vector[row, 0]\n",
    "            for col in range( size ):\n",
    "                if row != col:\n",
    "                    sum_values -= matrix[row, col] * current_solution[col]\n",
    "            \n",
    "            new_solution[row] = sum_values / matrix[row, row]\n",
    "            #print(f\"x{row+1} = {new_solution[row]}\")\n",
    "        history.append(new_solution.copy())\n",
    "        if np.linalg.norm( new_solution - current_solution, np.inf ) < tolerance:\n",
    "            return new_solution, history\n",
    "        \n",
    "        current_solution = np.copy( new_solution )\n",
    "\n",
    "    return current_solution, history\n",
    "\n",
    "def gauss_seidel(matrix: np.array, b_vector: np.array, initial_guess: np.array, tolerance: float, iterations: int) -> np.array:\n",
    "    current_solution = np.copy(initial_guess)\n",
    "    size = matrix.shape[0]\n",
    "    history = [current_solution.copy()]\n",
    "\n",
    "    for iter in range( iterations ):\n",
    "        for row in range(size):\n",
    "            sum_values = b_vector[row,0]\n",
    "            for col in range(size):\n",
    "                if row != col:\n",
    "                    sum_values -= matrix[row, col] * current_solution[col]\n",
    "            current_solution[row] = sum_values / matrix[row, row]\n",
    "            #print(f\"x{row+1} = {current_solution[row]}\")\n",
    "        history.append(current_solution.copy())\n",
    "        if np.linalg.norm(current_solution - initial_guess, np.inf) < tolerance:\n",
    "            return current_solution, history\n",
    "        \n",
    "        initial_guess = np.copy(current_solution)\n",
    "    \n",
    "    return current_solution, history\n",
    "\n",
    "def newton(x0, e, func, jf, iter) -> np.array:\n",
    "    while max(abs(func(x0))) > e:\n",
    "        s = np.linalg.solve(jf(x0), -func(x0))\n",
    "        x1 = x0 + s\n",
    "        if max(abs(x1 - x0)) < e: return x1\n",
    "        iter -= 1\n",
    "        x0 = x1\n",
    "        if iter == 0: return x1\n",
    "\n",
    "    return x1\n",
    "\n",
    "def cholesky(matrix: np.array, use_pivot: bool = False) -> tuple[np.array, np.array]:\n",
    "    size = matrix.shape[0]\n",
    "    L = np.zeros((size, size))\n",
    "    P = create_identity_matrix(size)\n",
    "    \n",
    "    if use_pivot:\n",
    "        for k in range(size):\n",
    "            max_index = np.argmax(np.abs(matrix[k:, k])) + k\n",
    "            if max_index != k:\n",
    "                matrix[[k, max_index]] = matrix[[max_index, k]]\n",
    "                P[[k, max_index]] = P[[max_index, k]]\n",
    "    \n",
    "    for i in range(size):\n",
    "        for j in range(i + 1):\n",
    "            sum_values = 0\n",
    "            if i == j:\n",
    "                for k in range(j):\n",
    "                    sum_values += L[i, k] * L[j, k]\n",
    "                L[i, j] = np.sqrt(matrix[i, i] - sum_values)\n",
    "            else:\n",
    "                for k in range(j):\n",
    "                    sum_values += L[i, k] * L[j, k]\n",
    "                if L[j, j] > 0:\n",
    "                    L[i, j] = (matrix[i, j] - sum_values) / L[j, j]\n",
    "    \n",
    "    return L"
   ]
  },
  {
   "cell_type": "markdown",
   "metadata": {},
   "source": [
    "# **Questão 1** #"
   ]
  },
  {
   "cell_type": "markdown",
   "metadata": {},
   "source": [
    "Considere os seguintes sistemas: \n",
    " \n",
    "$$\n",
    "\\begin{array}{lll}\n",
    "3x_2 + 2x_3 = 5 & -2x_1 - 2x_2 = -1 & x_1 + 2x_2 + x_3 = 4 \\\\\n",
    "x_1 + 4x_2 + x_3 = 6 & x_1 + 3x_2 - x_3 = 3 & 2x_1 + 6x_2 = 8 \\\\\n",
    "2x_2 + 5x_3 = 7 & -x_2 + 2x_3 = 1 & x_1 + 4x_3 = 5 \\\\\n",
    "\\end{array}\n",
    "$$\n",
    "\n",
    "Resolva os sistemas acima, quando possível, usando:\n",
    "\n",
    "a) Eliminação de Gauss sem e com Pivotamento Parcial. \n",
    "\n",
    "b) Fatoração LU sem e com Pivotamento Parcial.  \n",
    "\n",
    "c) Fatoração Cholesky sem e com Pivotamento Parcial. \n",
    "\n",
    "Observação: Faça operações aritméticas com aproximação de três dígitos por \n",
    "arredondamento."
   ]
  },
  {
   "cell_type": "code",
   "execution_count": 1000,
   "metadata": {},
   "outputs": [],
   "source": [
    "S1A = np.array([[0, 3, 2], [1, 4, 1], [0, 2, 5]], dtype=float)  \n",
    "S1B = np.array([[5], [6], [7]], dtype=float)\n",
    "\n",
    "S2A = np.array([[-2, -2, 0], [1, 3, -1], [0, -1, 2]], dtype=float)\n",
    "S2B = np.array([[-1], [3], [1]], dtype=float)\n",
    "\n",
    "S3A = np.array([[1, 2, 1], [2, 6, 0], [1, 0, 4]], dtype=float)\n",
    "S3B = np.array([[4], [8], [5]], dtype=float)\n"
   ]
  },
  {
   "cell_type": "markdown",
   "metadata": {},
   "source": [
    "### **Gauss** ###"
   ]
  },
  {
   "cell_type": "markdown",
   "metadata": {},
   "source": [
    "Para o primeiro sistema usando Eliminação de Gauss é preciso usar pivotamento caso queira achar a solução sendo a resposta [1. 1. 1.].\n",
    "\n",
    "Já no segundo sistema foi possivel resolver com e sem pivotamento sendo a resposta [-1.5  2.   1.5] para os dois.\n",
    "\n",
    "No terceiro sistema tambem foi possivel resolver com e sem pivotamento sendo a resposta [1. 1. 1.]."
   ]
  },
  {
   "cell_type": "markdown",
   "metadata": {},
   "source": [
    "#### **Primeiro Sistema** ####"
   ]
  },
  {
   "cell_type": "code",
   "execution_count": 1001,
   "metadata": {},
   "outputs": [
    {
     "name": "stdout",
     "output_type": "stream",
     "text": [
      "Sem pivotamento: [1. 1. 1.]\n"
     ]
    }
   ],
   "source": [
    "#\"\"\"\n",
    "#print(f\"Com pivotamento: {gauss_elimination(S1A, S1B, False)}\")\n",
    "print(f\"Sem pivotamento: {gauss_elimination(S1A, S1B, True)}\")\n",
    "#\"\"\""
   ]
  },
  {
   "cell_type": "markdown",
   "metadata": {},
   "source": [
    "#### **Segundo Sistema** ####"
   ]
  },
  {
   "cell_type": "code",
   "execution_count": 1002,
   "metadata": {},
   "outputs": [
    {
     "name": "stdout",
     "output_type": "stream",
     "text": [
      "Com pivotamento: [-1.5  2.   1.5]\n",
      "Sem pivotamento: [-1.5  2.   1.5]\n"
     ]
    }
   ],
   "source": [
    "#\"\"\"\n",
    "print(f\"Com pivotamento: {gauss_elimination(S2A, S2B, False)}\")\n",
    "print(f\"Sem pivotamento: {gauss_elimination(S2A, S2B, True)}\")\n",
    "#\"\"\""
   ]
  },
  {
   "cell_type": "markdown",
   "metadata": {},
   "source": [
    "#### **Terceiro Sistema** ####"
   ]
  },
  {
   "cell_type": "code",
   "execution_count": 1003,
   "metadata": {},
   "outputs": [
    {
     "name": "stdout",
     "output_type": "stream",
     "text": [
      "Com pivotamento: [1. 1. 1.]\n",
      "Sem pivotamento: [1. 1. 1.]\n"
     ]
    }
   ],
   "source": [
    "#\"\"\"\n",
    "print(f\"Com pivotamento: {gauss_elimination(S3A, S3B, False)}\")\n",
    "print(f\"Sem pivotamento: {gauss_elimination(S3A, S3B, True)}\")\n",
    "#\"\"\""
   ]
  },
  {
   "cell_type": "markdown",
   "metadata": {},
   "source": [
    "### **LU** ###"
   ]
  },
  {
   "cell_type": "markdown",
   "metadata": {},
   "source": [
    "#### **Primeiro Sistema** ####"
   ]
  },
  {
   "cell_type": "markdown",
   "metadata": {},
   "source": [
    "##### Sem pivotamento #####\n",
    "\n",
    "Erro de divisão por zero, então precisa pivotar"
   ]
  },
  {
   "cell_type": "code",
   "execution_count": 1004,
   "metadata": {},
   "outputs": [
    {
     "data": {
      "text/plain": [
       "'\\nL, U = flu(S1A, False) \\nprint(\"Forward Substitution\\n\")\\nprint(lu_forward_substitution(L, S1B))\\nprint(\"Backward Substitution\\n\")\\nprint(lu_backward_substitution(U, S1B))\\n'"
      ]
     },
     "execution_count": 1004,
     "metadata": {},
     "output_type": "execute_result"
    }
   ],
   "source": [
    "\"\"\"\n",
    "L, U = flu(S1A, False) \n",
    "print(\"Forward Substitution\\n\")\n",
    "print(lu_forward_substitution(L, S1B))\n",
    "print(\"Backward Substitution\\n\")\n",
    "print(lu_backward_substitution(U, S1B))\n",
    "\"\"\""
   ]
  },
  {
   "cell_type": "markdown",
   "metadata": {},
   "source": [
    "##### Com pivotamento #####"
   ]
  },
  {
   "cell_type": "code",
   "execution_count": 1005,
   "metadata": {},
   "outputs": [
    {
     "name": "stdout",
     "output_type": "stream",
     "text": [
      "Forward Substitution\n",
      "\n",
      "[[5.]\n",
      " [6.]\n",
      " [3.]]\n",
      "Backward Substitution\n",
      "\n",
      "[[0.18181818]\n",
      " [0.72727273]\n",
      " [1.90909091]]\n"
     ]
    }
   ],
   "source": [
    "#\"\"\"\n",
    "L, U = flu(S1A, True)\n",
    "print(\"Forward Substitution\\n\")\n",
    "print(lu_forward_substitution(L, S1B))\n",
    "print(\"Backward Substitution\\n\")\n",
    "print(lu_backward_substitution(U, S1B))\n",
    "#\"\"\""
   ]
  },
  {
   "cell_type": "markdown",
   "metadata": {},
   "source": [
    "#### **Segundo Sistema** ####"
   ]
  },
  {
   "cell_type": "markdown",
   "metadata": {},
   "source": [
    "##### Sem pivotamento #####"
   ]
  },
  {
   "cell_type": "code",
   "execution_count": 1006,
   "metadata": {},
   "outputs": [
    {
     "name": "stdout",
     "output_type": "stream",
     "text": [
      "Forward Substitution\n",
      "\n",
      "[[-1.  ]\n",
      " [ 2.5 ]\n",
      " [ 2.25]]\n",
      "Backward Substitution\n",
      "\n",
      "[[-1.33333333]\n",
      " [ 1.83333333]\n",
      " [ 0.66666667]]\n"
     ]
    }
   ],
   "source": [
    "#\"\"\"\n",
    "L, U = flu(S2A, False)\n",
    "print(\"Forward Substitution\\n\")\n",
    "print(lu_forward_substitution(L, S2B))\n",
    "print(\"Backward Substitution\\n\")\n",
    "print(lu_backward_substitution(U, S2B))\n",
    "#\"\"\""
   ]
  },
  {
   "cell_type": "markdown",
   "metadata": {},
   "source": [
    "##### Com pivotamento #####"
   ]
  },
  {
   "cell_type": "code",
   "execution_count": 1007,
   "metadata": {},
   "outputs": [
    {
     "name": "stdout",
     "output_type": "stream",
     "text": [
      "Forward Substitution\n",
      "\n",
      "[[-1.  ]\n",
      " [ 2.5 ]\n",
      " [ 2.25]]\n",
      "Backward Substitution\n",
      "\n",
      "[[-1.33333333]\n",
      " [ 1.83333333]\n",
      " [ 0.66666667]]\n"
     ]
    }
   ],
   "source": [
    "#\"\"\"\n",
    "L, U = flu(S2A, True)\n",
    "print(\"Forward Substitution\\n\")\n",
    "print(lu_forward_substitution(L, S2B))\n",
    "print(\"Backward Substitution\\n\")\n",
    "print(lu_backward_substitution(U, S2B))\n",
    "#\"\"\""
   ]
  },
  {
   "cell_type": "markdown",
   "metadata": {},
   "source": [
    "#### **Terceiro Sistema** ####"
   ]
  },
  {
   "cell_type": "markdown",
   "metadata": {},
   "source": [
    "##### Sem pivotamento #####"
   ]
  },
  {
   "cell_type": "code",
   "execution_count": 1008,
   "metadata": {},
   "outputs": [
    {
     "name": "stdout",
     "output_type": "stream",
     "text": [
      "Forward Substitution\n",
      "\n",
      "[[ 4.]\n",
      " [-0.]\n",
      " [ 1.]]\n",
      "Backward Substitution\n",
      "\n",
      "[[-19.]\n",
      " [  9.]\n",
      " [  5.]]\n"
     ]
    }
   ],
   "source": [
    "#\"\"\"\n",
    "L, U = flu(S3A, False)\n",
    "print(\"Forward Substitution\\n\")\n",
    "print(lu_forward_substitution(L, S3B))\n",
    "print(\"Backward Substitution\\n\")\n",
    "print(lu_backward_substitution(U, S3B))\n",
    "#\"\"\""
   ]
  },
  {
   "cell_type": "markdown",
   "metadata": {},
   "source": [
    "##### Com Pivotamento #####"
   ]
  },
  {
   "cell_type": "code",
   "execution_count": 1009,
   "metadata": {},
   "outputs": [
    {
     "name": "stdout",
     "output_type": "stream",
     "text": [
      "Forward Substitution\n",
      "\n",
      "[[4.]\n",
      " [6.]\n",
      " [1.]]\n",
      "Backward Substitution\n",
      "\n",
      "[[ 70.        ]\n",
      " [-22.66666667]\n",
      " [-15.        ]]\n"
     ]
    }
   ],
   "source": [
    "#\"\"\"\n",
    "L, U = flu(S3A, True)\n",
    "print(\"Forward Substitution\\n\")\n",
    "print(lu_forward_substitution(L, S3B))\n",
    "print(\"Backward Substitution\\n\")\n",
    "print(lu_backward_substitution(U, S3B))\n",
    "#\"\"\""
   ]
  },
  {
   "cell_type": "markdown",
   "metadata": {},
   "source": [
    "### **Cholesky** ###"
   ]
  },
  {
   "cell_type": "markdown",
   "metadata": {},
   "source": [
    "Antes de testar os sistemas com o método de Cholesky precisamo garantir que a matriz de entrada seja simétrica."
   ]
  },
  {
   "cell_type": "code",
   "execution_count": 1010,
   "metadata": {},
   "outputs": [
    {
     "name": "stdout",
     "output_type": "stream",
     "text": [
      "Sistema 1 é simétrico? \u001b[31mFalse\u001b[0m\n",
      "Sistema 2 é simétrico? \u001b[31mFalse\u001b[0m\n",
      "Sistema 3 é simétrico? \u001b[32mTrue\u001b[0m\n"
     ]
    }
   ],
   "source": [
    "print(f\"Sistema 1 é simétrico? {red_color}{is_symetric(S1A)}{reset_color}\")\n",
    "print(f\"Sistema 2 é simétrico? {red_color}{is_symetric(S2A)}{reset_color}\")\n",
    "print(f\"Sistema 3 é simétrico? {green_color}{is_symetric(S3A)}{reset_color}\")"
   ]
  },
  {
   "cell_type": "markdown",
   "metadata": {},
   "source": [
    "Somente o terceiro sistema pode ser resolvido com o método de Cholesky e o resultado com e sem pivotamento é \n",
    "\n",
    "\n",
    "$$\n",
    "L = \n",
    "\\begin{bmatrix}\n",
    "1 & 0 & 0 \\\\\n",
    "2  & 1.41421356 & 0\\\\\n",
    "1 & -1.41421356 & 1\\\\\n",
    "\\end{bmatrix}\n",
    "$$\n",
    "\n",
    "\n",
    "$x_1 = 4, x_2 = - e x_3 = 1$"
   ]
  },
  {
   "cell_type": "markdown",
   "metadata": {},
   "source": [
    "O terceiro sistema pode ser resolvido usando o método de Cholesky e os resultados com e sem pivotamento são:\n",
    "\n",
    "Sem pivotamento: $x_1 = 4$, $x_2 = 0 $, $x_3 = 1$\n",
    "\n",
    "Com pivotamento: $x_1 = 2.828$, $x_2 = 4.899 $, $x_3 = 2.739$"
   ]
  },
  {
   "cell_type": "markdown",
   "metadata": {},
   "source": [
    "#### **Terceiro Sistema** ####"
   ]
  },
  {
   "cell_type": "code",
   "execution_count": 1011,
   "metadata": {},
   "outputs": [
    {
     "name": "stdout",
     "output_type": "stream",
     "text": [
      "\n",
      "\u001b[31mWithout\u001b[0m Partial Pivoting\n",
      "[[ 1.          0.          0.        ]\n",
      " [ 2.          1.41421356  0.        ]\n",
      " [ 1.         -1.41421356  1.        ]]\n",
      "\n",
      "\u001b[32mWith\u001b[0m Partial Pivoting\n",
      "[[ 1.41421356  0.          0.        ]\n",
      " [ 0.70710678  1.22474487  0.        ]\n",
      " [ 0.70710678 -0.40824829  1.82574186]]\n"
     ]
    }
   ],
   "source": [
    "LSP = cholesky(S3A, False)\n",
    "LCP = cholesky(S3A, True)\n",
    "print(f\"\\n{red_color}Without{reset_color} Partial Pivoting\")\n",
    "print(LSP)\n",
    "print(f\"\\n{green_color}With{reset_color} Partial Pivoting\")\n",
    "print(LCP)"
   ]
  },
  {
   "cell_type": "markdown",
   "metadata": {},
   "source": [
    "##### **Achando $x_1$,$x_2$,$x_3$** #####"
   ]
  },
  {
   "cell_type": "code",
   "execution_count": 1012,
   "metadata": {},
   "outputs": [
    {
     "name": "stdout",
     "output_type": "stream",
     "text": [
      "x1 = [4.]\n",
      "x2 = [-0.]\n",
      "x3 = [1.]\n",
      "x1 = [2.828]\n",
      "x2 = [4.899]\n",
      "x3 = [2.739]\n"
     ]
    }
   ],
   "source": [
    "print_solutions( np.linalg.solve( LSP, S3B ) )\n",
    "print_solutions( np.linalg.solve( LCP, S3B ) )"
   ]
  },
  {
   "cell_type": "markdown",
   "metadata": {},
   "source": [
    "##### **Usando soluções encontradas para reconstruir o sistema** #####"
   ]
  },
  {
   "cell_type": "code",
   "execution_count": 1013,
   "metadata": {},
   "outputs": [
    {
     "name": "stdout",
     "output_type": "stream",
     "text": [
      "\n",
      "\u001b[31mWithout\u001b[0m Partial Pivoting\n",
      "[[1.00000000e+00 2.00000000e+00 1.00000000e+00]\n",
      " [2.00000000e+00 6.00000000e+00 4.05861454e-17]\n",
      " [1.00000000e+00 4.05861454e-17 4.00000000e+00]]\n",
      "\n",
      "\u001b[32mWith\u001b[0m Partial Pivoting\n",
      "[[2.00000000e+00 1.00000000e+00 1.00000000e+00]\n",
      " [1.00000000e+00 2.00000000e+00 1.73428748e-19]\n",
      " [1.00000000e+00 1.73428748e-19 4.00000000e+00]]\n"
     ]
    }
   ],
   "source": [
    "reconstructed_A = np.dot( LSP, LSP.T )\n",
    "print(f\"\\n{red_color}Without{reset_color} Partial Pivoting\")\n",
    "print(reconstructed_A)\n",
    "\n",
    "reconstructed_A = np.dot( LCP, LCP.T )\n",
    "print(f\"\\n{green_color}With{reset_color} Partial Pivoting\")\n",
    "print(reconstructed_A)"
   ]
  },
  {
   "cell_type": "markdown",
   "metadata": {},
   "source": [
    "O resultado da matriz resolvida com os valores do método são:\n",
    "$$\n",
    "\\text{Sem pivotamento} = \n",
    "\\begin{bmatrix}\n",
    "1.00000000e+00 & 2.00000000e+00 & 1.00000000e+00\\\\\n",
    "2.00000000e+00 & 6.00000000e+00 & 4.05861454e-17\\\\\n",
    "1.00000000e+00 & 4.05861454e-17 & 4.00000000e+00\\\\\n",
    "\\end{bmatrix}\n",
    "$$\n",
    "\n",
    "$$\n",
    "\\text{Com pivotamento} = \n",
    "\\begin{bmatrix}\n",
    "2.00000000e+00  & 1.00000000e+00 & 1.00000000e+00\\\\\n",
    "1.00000000e+00 & 2.00000000e+00 & 1.73428748e-19\\\\\n",
    "1.00000000e+00 & 1.73428748e-19 & 4.00000000e+00\\\\\n",
    "\\end{bmatrix}\n",
    "$$\n",
    "\n",
    "A matriz com a solução sem pivotamento se aproximou muito dos valores iniciais do terceiro sistema."
   ]
  },
  {
   "cell_type": "markdown",
   "metadata": {},
   "source": [
    "### **Conclusão** ###\n",
    "\n",
    "Os sistemas foram resolvidos com sucesso utilizando, e em alguns caso somente com a pivotação parcial se mostrou necessária para garantir a estabilidade numérica e evitar a divisão por zero."
   ]
  },
  {
   "cell_type": "markdown",
   "metadata": {},
   "source": [
    "# **Questão 2** #\n"
   ]
  },
  {
   "cell_type": "markdown",
   "metadata": {},
   "source": [
    "Considere o sistema: \n",
    "\n",
    "\n",
    "$$\n",
    "\\begin{array}{lll}\n",
    "1x_1 + x_2 + 3x_3 = -2 \\\\\n",
    "αx_1 + x_2 + 4x_3 = -3 \\\\\n",
    "5x_1 + 2x_2 + 1x_3 = 4 \\\\\n",
    "\\end{array}\n",
    "$$\n",
    "\n",
    "Para os valores de α:  \n",
    "\n",
    "a) A matriz A pode ser decomposta em L.U.? Justifique. \n",
    "\n",
    "b) O sistema pode ser resolvido por Fatoração Cholesky? Justifique. \n",
    "\n",
    "c) Considere  α = 1 e resolva o sistema pelo Método de Eliminação de Gauss  sem pivotamento"
   ]
  },
  {
   "cell_type": "code",
   "execution_count": 1014,
   "metadata": {},
   "outputs": [],
   "source": [
    "A = np.array([[1,1,3], [1,1,4], [5,2,1]])\n",
    "B = np.array([[-2], [-3], [4]])"
   ]
  },
  {
   "cell_type": "markdown",
   "metadata": {},
   "source": [
    "### **A matriz pode ser decomposta em L.U.?** ###\n",
    "\n",
    "Para que uma matriz X possa ser decomposta em L.U.: Se o determinante de todos os menores principais da matriz A forem não-nulos. Podemos então calcular os determinantes e determinar se podemos ou não decompor essa matriz.\n",
    "\n",
    "Submatriz Det ( $A_{11}$ ) = 1\n",
    "\n",
    "Submatriz Det ( $A_{22}$ ) = 1 ⋅ 1 −1 ⋅ α = 1 −α.\n",
    "\n",
    "Submatriz Det ( $A_{33}$ ) = 1 ⋅ ( 1 ⋅ 1 −4 ⋅ 2 ) −1 ⋅( α ⋅ 1 − 4 ⋅ 5 ) + 3 ⋅ ( α ⋅ 2 −1 ⋅ 5 ) = 5α − 2\n",
    "\n",
    "Para que possamos decompor essa função Det ( $A_{11}$ ), Det ( $A_{22}$ ), Det ( $A_{33}$ ) não podem ser nulos então α precisa ser diferente de 1 pois caso ele seja igual a 1 então Det ( $A_{22}$ ) = 1 −1 = 0"
   ]
  },
  {
   "cell_type": "markdown",
   "metadata": {},
   "source": [
    "### **O sistema pode ser resolvido por Fatoração Cholesky?** ###\n",
    "\n",
    "Para que uma matriz X possa ser fatorada pelo método Cholesky: Se for simétrica e positiva definida\n",
    "\n",
    "Podemos verificar isso e determinar se pode ou não ser resolvida\n",
    "\n",
    "$$\n",
    "A = \n",
    "\\begin{bmatrix}\n",
    "1 & 1 & 3 \\\\\n",
    "α  & 1 & 4\\\\\n",
    "5 & 2 & 1\\\\\n",
    "\\end{bmatrix}\n",
    "$$\n",
    "\n",
    "$A$ não é simétrica, pois $A_{31} = 5$ e $A_{13} = 3$ o que impede a aplicação da fatoração de Cholesky.\n"
   ]
  },
  {
   "cell_type": "markdown",
   "metadata": {},
   "source": [
    "### **Usando Eliminação de Gauss** ###"
   ]
  },
  {
   "cell_type": "markdown",
   "metadata": {},
   "source": [
    "Testando o codigo \"gauss_solution_without_pivot = gauss_elimination(A, B, False)\" o erro de que um 0 foi encontrado com pivô acontece portanto seria necessário usar pivotamento para resolver o sistema."
   ]
  },
  {
   "cell_type": "code",
   "execution_count": 1015,
   "metadata": {},
   "outputs": [
    {
     "name": "stdout",
     "output_type": "stream",
     "text": [
      "Solução do sistema usando Eliminação de Gauss com pivoteamento parcial\n",
      "x1 = 1.0\n",
      "x2 = 0.0\n",
      "x3 = -1.0\n"
     ]
    }
   ],
   "source": [
    "#gauss_solution_without_pivot = gauss_elimination(A, B, False) #Se rodar isso, vai dar erro de divisão por zero\n",
    "gauss_solution_with_pivot     = gauss_elimination(A, B, True)\n",
    "print(\"Solução do sistema usando Eliminação de Gauss com pivoteamento parcial\")\n",
    "print_solutions( gauss_solution_with_pivot )"
   ]
  },
  {
   "cell_type": "markdown",
   "metadata": {},
   "source": [
    "# **Questão 3** #"
   ]
  },
  {
   "cell_type": "markdown",
   "metadata": {},
   "source": [
    "Considere o seguinte sistema de equaç ões para determinar as concentrações \n",
    "c1,c2 e c3 (g/m3) numa série de 3 reatores como função da quantidade de massa à entrada de cada reator (termo independente do sistema em g): \n",
    "\n",
    "$$\n",
    "\\begin{array}{lll}\n",
    "17c_1 - 2c_2 - 3_c3 = 500 \\\\\n",
    "-5c_1 + 21c_2 - 2c_3 = 200 \\\\\n",
    "-5c_1 - 5c_2 + 22c_3 = 30 \\\\\n",
    "\\end{array}\n",
    "$$\n",
    "\n",
    "\n",
    "a) Analise as condições de convergência do método de Gauss-Jacobi e Gauss-Seidel quando aplicado ao sistema.  \n",
    "\n",
    "b) Aplique o método de Gauss-Jacobi e de Gauss-Seidel ao sistema, considerando como aproximação inicial o ponto (34, 19, 13) e ε1 = 0.0025 ou no máximo 2 iterações"
   ]
  },
  {
   "cell_type": "code",
   "execution_count": 1016,
   "metadata": {},
   "outputs": [],
   "source": [
    "A = np.array([[17, -2, -3], [-5, 21, -2], [-5, -5, 22]], dtype=float)\n",
    "B = np.array([[500], [200], [30]], dtype=float)\n",
    "initial_guess = np.array([34, 19, 13], dtype=float)"
   ]
  },
  {
   "cell_type": "markdown",
   "metadata": {},
   "source": [
    "### Análise de condições de convergência ###\n",
    "\n",
    "A convergência é garantida se qualquer uma das duas condições for satisfeita:\n",
    "\n",
    "a) Se o raio espectral $p(m)$ < 1;"
   ]
  },
  {
   "cell_type": "code",
   "execution_count": 1017,
   "metadata": {},
   "outputs": [
    {
     "name": "stdout",
     "output_type": "stream",
     "text": [
      "23.74885541853668\n"
     ]
    }
   ],
   "source": [
    "print(np.max(np.abs(np.linalg.eigvals(A))).real)"
   ]
  },
  {
   "cell_type": "markdown",
   "metadata": {},
   "source": [
    "\n",
    "\n",
    "b) Se a matriz A for diagonalmente dominante.\n",
    "- Podemos pegar $A_{11}$, $A_{22}$, $A_{33}$ e verificar sua dominancia sobre sua linha.\n",
    "    - $|A_{11}|$ = 17 > $|A_{12}|$ = 2 e $|A_{11}|$ = 17 > $|A_{13}|$ = 3\n",
    "    - $|A_{22}|$ = 21 > $|A_{21}|$ = 5 e $|A_{22}|$ = 17 > $|A_{23}|$ = 2\n",
    "    - $|A_{33}|$ = 22 > $|A_{31}|$ = 5 e $|A_{33}|$ = 17 > $|A_{32}|$ = 5\n",
    "\n",
    "No caso desse sistema $A$ a matriz é diagonalmente dominante e portanto será garantida sua convergência usando os métodos Gauss-Jacobi ou Gauss-Seidel"
   ]
  },
  {
   "cell_type": "code",
   "execution_count": 1018,
   "metadata": {},
   "outputs": [
    {
     "name": "stdout",
     "output_type": "stream",
     "text": [
      "Solução de Gauss-Jacobi: \u001b[32m[33.99656226 18.88209829 13.36325439]\u001b[0m\n",
      "Solução de Gauss-Seidel: \u001b[32m[33.98626402 18.88816489 13.38055203]\u001b[0m\n"
     ]
    }
   ],
   "source": [
    "gauss_jacobi_solution, h = gauss_jacobi(A, B, initial_guess, 0.0025, 2)\n",
    "print(f\"Solução de Gauss-Jacobi: {green_color}{gauss_jacobi_solution}{reset_color}\")\n",
    "\n",
    "gauss_seidel_solution, h = gauss_seidel(A, B, initial_guess, 0.0025, 2)\n",
    "print(f\"Solução de Gauss-Seidel: {green_color}{gauss_seidel_solution}{reset_color}\")\n"
   ]
  },
  {
   "cell_type": "markdown",
   "metadata": {},
   "source": [
    "Os métodos de Gauss-Jacobi e Gauss-Seidel convergiram para soluções próximas. A diagonal dominante da matriz $A$ garante a convergência dos métodos"
   ]
  },
  {
   "cell_type": "markdown",
   "metadata": {},
   "source": [
    "# **Questão 4** #\n"
   ]
  },
  {
   "cell_type": "markdown",
   "metadata": {},
   "source": [
    "Considere o sistema: \n",
    "$$\n",
    "\\begin{array}{ll}\n",
    "    2x_1 + 5x_2 = -3 \\\\\n",
    "    3x_1 + x_2  = 2 \\\\₁\n",
    "\\end{array}\n",
    "$$"
   ]
  },
  {
   "cell_type": "markdown",
   "metadata": {},
   "source": [
    "### Aplique analítica e graficamente os métodos Gauss-Jacobi e Gauss-Seidel. ###\n",
    "\n",
    "Usando esse sistema sem permutação desse jeito:"
   ]
  },
  {
   "cell_type": "code",
   "execution_count": 1019,
   "metadata": {},
   "outputs": [],
   "source": [
    "A = np.array([[2, 5], [3, 1]], dtype=float)\n",
    "B = np.array([[-3], [2]], dtype=float)\n",
    "initial_guess = np.array([1, 1], dtype=float)\n",
    "gauss_jacobi_solution, jh= gauss_jacobi(A, B, initial_guess, 0.005, 10)\n",
    "gauss_seidel_solution, sh = gauss_seidel(A, B, initial_guess, 0.005, 10)"
   ]
  },
  {
   "cell_type": "markdown",
   "metadata": {},
   "source": [
    "Os resultados obtidos para o método de Gauss Jacobi foram:"
   ]
  },
  {
   "cell_type": "code",
   "execution_count": 1020,
   "metadata": {},
   "outputs": [
    {
     "name": "stdout",
     "output_type": "stream",
     "text": [
      "Solução de Gauss-Jacobi: \u001b[32m[1.00000000e+00 4.74599375e+04]\u001b[0m\n"
     ]
    },
    {
     "data": {
      "image/png": "[encoded data removed]",
      "text/plain": [
       "<Figure size 1000x600 with 1 Axes>"
      ]
     },
     "metadata": {},
     "output_type": "display_data"
    }
   ],
   "source": [
    "print(f\"Solução de Gauss-Jacobi: {green_color}{gauss_jacobi_solution}{reset_color}\")\n",
    "plot_graph(jh, \"Iterações do Método de Gauss-Jacobi\")"
   ]
  },
  {
   "cell_type": "markdown",
   "metadata": {},
   "source": [
    "Os resultados obtidos para o método de Gauss Seidel foram:"
   ]
  },
  {
   "cell_type": "code",
   "execution_count": 1021,
   "metadata": {},
   "outputs": [
    {
     "name": "stdout",
     "output_type": "stream",
     "text": [
      "Solução de Gauss-Seidel: \u001b[32m[-3.75423430e+08  1.12627029e+09]\u001b[0m\n"
     ]
    },
    {
     "data": {
      "image/png": "[encoded data removed]",
      "text/plain": [
       "<Figure size 1000x600 with 1 Axes>"
      ]
     },
     "metadata": {},
     "output_type": "display_data"
    }
   ],
   "source": [
    "print(f\"Solução de Gauss-Seidel: {green_color}{gauss_seidel_solution}{reset_color}\")\n",
    "plot_graph(sh, \"Iterações do Método de Gauss-Seidel\")"
   ]
  },
  {
   "cell_type": "markdown",
   "metadata": {},
   "source": [
    "### Permute as equações e aplique analítica e graficamente os métodos Gauss-Jacobi e Gauss-Seidel. ###\n",
    "\n",
    "Permutando $x_1$ com $x_2$ e iterando até a convergência obtive a solução aproximada: $X≈[−1,0.9984]$ para o **método de Jacobi** e para o **método de Seidel** a solução é $X≈[-1.  1.]$"
   ]
  },
  {
   "cell_type": "code",
   "execution_count": 1022,
   "metadata": {},
   "outputs": [
    {
     "name": "stdout",
     "output_type": "stream",
     "text": [
      "Solução de Gauss-Jacobi: \u001b[32m[-1.          0.99841975]\u001b[0m\n"
     ]
    },
    {
     "data": {
      "image/png": "[encoded data removed]",
      "text/plain": [
       "<Figure size 1000x600 with 1 Axes>"
      ]
     },
     "metadata": {},
     "output_type": "display_data"
    },
    {
     "name": "stdout",
     "output_type": "stream",
     "text": [
      "Solução de Gauss-Seidel: \u001b[32m[-1.  1.]\u001b[0m\n"
     ]
    },
    {
     "data": {
      "image/png": "[encoded data removed]",
      "text/plain": [
       "<Figure size 1000x600 with 1 Axes>"
      ]
     },
     "metadata": {},
     "output_type": "display_data"
    }
   ],
   "source": [
    "A = np.array([[5, 2], [1, 3]], dtype=float)\n",
    "B = np.array([[-3], [2]], dtype=float)\n",
    "initial_guess = np.array([1, 1], dtype=float)\n",
    "gauss_jacobi_solution, jh= gauss_jacobi(A, B, initial_guess, 0.005, 10)\n",
    "print(f\"Solução de Gauss-Jacobi: {green_color}{gauss_jacobi_solution}{reset_color}\")\n",
    "plot_graph(jh, \"Iterações do Método de Gauss-Jacobi\")\n",
    "\n",
    "gauss_seidel_solution, sh = gauss_seidel(A, B, initial_guess, 0.005, 10)\n",
    "print(f\"Solução de Gauss-Seidel: {green_color}{gauss_seidel_solution}{reset_color}\")\n",
    "plot_graph(sh, \"Iterações do Método de Gauss-Seidel\")"
   ]
  },
  {
   "cell_type": "markdown",
   "metadata": {},
   "source": [
    "### Compare os resultados obtidos ###\n",
    "\n",
    "Os métodos Gauss-Jacobi e Gauss-Seidel mostraram resultados distintos ao resolver o sistema de equações sem permutação. O método de Gauss-Jacobi divergiu, apresentando uma solução extremamente grande, enquanto o método de Gauss-Seidel também divergiu, apresentando valores ainda maiores.\n",
    "\n",
    "Após permutar as equações para melhorar a convergência, ambos os métodos convergiram para soluções razoáveis. O método de Gauss-Jacobi convergiu para a solução aproximada [-1. 0.9984], enquanto o método de Gauss-Seidel convergiu para a solução [-1. 1.].\n",
    "\n",
    "Isso demonstra a importância do condicionamento da matriz e da escolha inicial das variáveis. A permutação das equações melhorou significativamente a estabilidade e a convergência dos métodos iterativos aplicados."
   ]
  },
  {
   "cell_type": "markdown",
   "metadata": {},
   "source": [
    "# **Questão 5** #\n"
   ]
  },
  {
   "cell_type": "markdown",
   "metadata": {},
   "source": [
    "Resolva o seguinte sistema de equações não linear usando o método iterativo \n",
    "de Newton e considere a aproximação inicial com o valor (0 ,0 ,0). \n",
    "\n",
    "$$\n",
    "\\begin{array}{ll}\n",
    "    3sen(x) – 4y –12z – 1 = 0 \\\\\n",
    "    4x^2 – 8y – 10z + 5 = 0 \\\\\n",
    "    2e^x  + 2y + 3z – 8 = 0 \\\\\n",
    "\\end{array}\n",
    "$$\n"
   ]
  },
  {
   "cell_type": "code",
   "execution_count": 1023,
   "metadata": {},
   "outputs": [
    {
     "name": "stdout",
     "output_type": "stream",
     "text": [
      "Solução de Newton: \u001b[32m[ 1.06999055  1.76139911 -0.45116738]\u001b[0m\n",
      "Substituindo na função: \u001b[32m[-3.24620331e-11  9.86837279e-11  7.19246884e-11]\u001b[0m que são valores muito próximos de zero\n"
     ]
    }
   ],
   "source": [
    "f = lambda x: np.array( [ 3 * np.sin(x[0]) - 4 * x[1] - 12 * x[2] - 1, \n",
    "                          4 * x[0]**2 - 8 * x[1] - 10 * x[2] + 5, \n",
    "                          2 * np.exp(x[0]) + 2 * x[1] + 3 * x[2] - 8] )\n",
    "\n",
    "jf = lambda x: np.array( [ [3 * np.cos(x[0]), -4, -12], \n",
    "                           [8 * x[0], -8, -10], \n",
    "                           [2 * np.exp(x[0]), 2, 3]] )\n",
    "newton_solution = newton([0,0,0], 10**-5, f, jf, 100)\n",
    "print(f\"Solução de Newton: {green_color}{newton_solution}{reset_color}\")\n",
    "print(f\"Substituindo na função: {green_color}{f(newton_solution)}{reset_color} que são valores muito próximos de zero\")\n"
   ]
  }
 ],
 "metadata": {
  "kernelspec": {
   "display_name": "Python 3",
   "language": "python",
   "name": "python3"
  },
  "language_info": {
   "codemirror_mode": {
    "name": "ipython",
    "version": 3
   },
   "file_extension": ".py",
   "mimetype": "text/x-python",
   "name": "python",
   "nbconvert_exporter": "python",
   "pygments_lexer": "ipython3",
   "version": "3.12.0"
  }
 },
 "nbformat": 4,
 "nbformat_minor": 2
}
