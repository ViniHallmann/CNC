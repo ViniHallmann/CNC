{
 "cells": [
  {
   "cell_type": "markdown",
   "metadata": {},
   "source": [
    "Método da bisecção para achar a raiz de uma função consiste nos seguintes\n",
    "passos:\n",
    "\n",
    "Passo 1: Partir de um intervalo inicial [a1, b1], tal que f(a1) e f(b1) tenham sinais contrários.\n",
    "\n",
    "Passo 2: Na iteração k, dividir o intervalo [ak, bk] em dois subintervalos [ak, xk] e [xk, bk], sendo xk = (ak + bk)/2 o ponto\n",
    "médio entre ak e bk.\n",
    "\n",
    "Passo 3: Decidir qual subintervalo contém o zero de f e\n",
    "renomear xk de modo a obter um novo intervalo [ak+1, bk+1] tal que f(ak+1) e f(bk+1) tenham sinais contrários.\n",
    "\n",
    "Passo 4: Repetir os passos 2 e 3 até atingir a precisão desejada."
   ]
  },
  {
   "cell_type": "markdown",
   "metadata": {},
   "source": [
    "FUNÇÕES AUXILIARES"
   ]
  },
  {
   "cell_type": "code",
   "execution_count": 144,
   "metadata": {},
   "outputs": [],
   "source": [
    "from math import e as euler\n",
    "import pandas as pd\n",
    "import numpy as np\n",
    "import matplotlib.pyplot as plt\n",
    "from IPython.display import display\n",
    "\n",
    "REPETITIONS   = 'n\\u207F'\n",
    "LEFT_BOUND    = 'a\\u207F'\n",
    "RIGHT_BOUND   = 'b\\u207F'\n",
    "MIDDLE_POINT  = 'x\\u207F'\n",
    "FX            = 'f(x\\u207F)'\n",
    "FA            = 'f(a\\u207F)'\n",
    "FA_FX         = 'f(a\\u207F) * f(x\\u207F)'\n",
    "\n",
    "table_values = {\n",
    "    REPETITIONS: [],\n",
    "    LEFT_BOUND: [],\n",
    "    RIGHT_BOUND: [],\n",
    "    MIDDLE_POINT: [],\n",
    "    FX: [],\n",
    "    FA: [],\n",
    "    FA_FX: []\n",
    "}\n",
    "\n",
    "def function( x ):\n",
    "    return x**3 - 9*x + 5\n",
    "\n",
    "def plot_function( x, y, a, b, root ):\n",
    "    x_values = np.linspace( x, y, 1000 )\n",
    "    y_values = function( x_values )\n",
    "\n",
    "    plt.figure( figsize=(6, 6), facecolor='#282a36', edgecolor='black' ) \n",
    "    plt.plot( x_values, y_values, label='f(x) = x^3 - 9x + 5' )\n",
    "\n",
    "    plt.tick_params( axis='x', colors='white' )\n",
    "    plt.tick_params( axis='y', colors='white' )\n",
    "\n",
    "    plt.scatter( a, function( a ), color='green', label='Bound Left' )\n",
    "    plt.scatter( b, function( b ), color='green', label='Bound Right' )\n",
    "    plt.scatter( root, function( root ), color='red', label='Root' )\n",
    "    plt.grid( True )\n",
    "    plt.show()\n",
    "\n",
    "def average( a, b ):\n",
    "    return ( a + b ) / 2\n",
    "\n",
    "def weighted_average( a, b, f_a, f_b ):\n",
    "    return ( ( a * f_b ) - ( b * f_a ) ) / ( f_b - f_a )\n",
    "\n",
    "def product( x1, x2 ):\n",
    "    return x1 * x2 \n",
    "\n",
    "def display_table():\n",
    "    df = pd.DataFrame( table_values )\n",
    "    df.columns = [REPETITIONS, LEFT_BOUND, RIGHT_BOUND, MIDDLE_POINT, FX, FA, FA_FX]\n",
    "    display( df.style.hide( axis=\"index\" ).format( na_rep= None, precision=3 ) )\n",
    "    clear_table()\n",
    "\n",
    "def add_values( repetitions, a, b, x, f_x, f_a, f_x_f_a ):\n",
    "    table_values[REPETITIONS].append( repetitions )\n",
    "    table_values[LEFT_BOUND].append( a )\n",
    "    table_values[RIGHT_BOUND].append( b )\n",
    "    table_values[MIDDLE_POINT].append( x )\n",
    "    table_values[FX].append( f_x )\n",
    "    table_values[FA].append( f_a )\n",
    "    if f_x_f_a > 0:\n",
    "        table_values[FA_FX].append( '> 0' )\n",
    "    elif f_x_f_a < 0:\n",
    "        table_values[FA_FX].append( '< 0' )\n",
    "\n",
    "def clear_table():\n",
    "    for key in table_values:\n",
    "        table_values[key] = []\n"
   ]
  },
  {
   "cell_type": "markdown",
   "metadata": {},
   "source": [
    "Método da Bissecção:\n",
    "\n",
    "1. Se function(left) x function(middle) > 0   então raiz estao no intervalo [ middle, right ], logo left = middle \n",
    "\n",
    "2. Senão se function(left) . function(middle) < 0    então raiz estao no intervalo [ left, middle ], logo right = middle \n",
    "\n",
    "Parametros\n",
    "\n",
    "<li>left: Limite a esquerda do intervalo.</li>\n",
    "<li>right: Limite a direita do intervalo.</li>\n",
    "\n",
    "Critérios de paradas:\n",
    "<li>e: Epsilon;</li>\n",
    "\n",
    "<li>n: Número de iterações.</li>\n",
    "\n",
    "Return middle: Raiz aproximada.\n"
   ]
  },
  {
   "cell_type": "code",
   "execution_count": 145,
   "metadata": {},
   "outputs": [],
   "source": [
    "def bisection( left , right , e = None, n = None):\n",
    "    counter = 0\n",
    "    if ( e is not None and n is not None ) or ( e is None and n is None ):\n",
    "        raise ValueError( 'You must provide either the number of iterations or the epsilon margin' )\n",
    "\n",
    "    while e is not None and ( abs( right - left ) ) >= e:\n",
    "        counter += 1\n",
    "        middle = average( left, right )\n",
    "        prod = product( function( left ), function( middle ) )\n",
    "        add_values( counter, left, right, middle, function( middle ), function( left ), prod )\n",
    "        left = middle if prod > 0 else left\n",
    "        right = middle if prod < 0 else right\n",
    "                                           \n",
    "    while n is not None and counter < n:\n",
    "        counter += 1\n",
    "        middle = average( left, right )\n",
    "        prod = product( function( left ), function( middle ) )\n",
    "        add_values( counter, left, right, middle, function( middle ), function( left ), prod )\n",
    "        left = middle if prod > 0 else left\n",
    "        right = middle if prod < 0 else right\t\n",
    "    return middle"
   ]
  },
  {
   "cell_type": "code",
   "execution_count": 146,
   "metadata": {},
   "outputs": [],
   "source": [
    "def false_positon( left, right, e = None, n = None ):\n",
    "    counter = 0\n",
    "    if ( e is not None and n is not None ) or ( e is None and n is None ):\n",
    "        raise ValueError( 'You must provide either the number of iterations or the epsilon margin' )\n",
    "    \n",
    "    while e is not None and abs( abs( right - left ) ) >= e:\n",
    "        counter += 1\n",
    "        middle = weighted_average( left, right, function( left ), function( right ) )\n",
    "        prod = product( function( left ), function( middle ) )\n",
    "        add_values( counter, left, right, middle, function( middle ), function( left ), prod )\n",
    "        left = middle if prod > 0 else left\n",
    "        right = middle if prod < 0 else right\n",
    "    \n",
    "    return middle\n",
    "    "
   ]
  },
  {
   "cell_type": "code",
   "execution_count": 147,
   "metadata": {},
   "outputs": [
    {
     "ename": "UnboundLocalError",
     "evalue": "cannot access local variable 'middle' where it is not associated with a value",
     "output_type": "error",
     "traceback": [
      "\u001b[1;31m---------------------------------------------------------------------------\u001b[0m",
      "\u001b[1;31mUnboundLocalError\u001b[0m                         Traceback (most recent call last)",
      "Cell \u001b[1;32mIn[147], line 7\u001b[0m\n\u001b[0;32m      1\u001b[0m \u001b[38;5;28;01mif\u001b[39;00m \u001b[38;5;18m__name__\u001b[39m \u001b[38;5;241m==\u001b[39m \u001b[38;5;124m'\u001b[39m\u001b[38;5;124m__main__\u001b[39m\u001b[38;5;124m'\u001b[39m:\n\u001b[0;32m      2\u001b[0m     \u001b[38;5;28;01mtry\u001b[39;00m:\n\u001b[0;32m      3\u001b[0m         \u001b[38;5;66;03m#root = bisection( 0.5, 1, 0.01, None )\u001b[39;00m\n\u001b[0;32m      4\u001b[0m         \u001b[38;5;66;03m#plot_function( -1, 3, 0.5, 1, root)\u001b[39;00m\n\u001b[0;32m      5\u001b[0m         \u001b[38;5;66;03m#display_table()\u001b[39;00m\n\u001b[1;32m----> 7\u001b[0m         root \u001b[38;5;241m=\u001b[39m \u001b[43mfalse_positon\u001b[49m\u001b[43m(\u001b[49m\u001b[43m \u001b[49m\u001b[38;5;241;43m0.5\u001b[39;49m\u001b[43m,\u001b[49m\u001b[43m \u001b[49m\u001b[38;5;241;43m1\u001b[39;49m\u001b[43m,\u001b[49m\u001b[43m \u001b[49m\u001b[38;5;241;43m0.0005\u001b[39;49m\u001b[43m,\u001b[49m\u001b[43m \u001b[49m\u001b[38;5;28;43;01mNone\u001b[39;49;00m\u001b[43m \u001b[49m\u001b[43m)\u001b[49m\n\u001b[0;32m      8\u001b[0m         display_table()\n\u001b[0;32m     10\u001b[0m     \u001b[38;5;28;01mexcept\u001b[39;00m \u001b[38;5;167;01mValueError\u001b[39;00m \u001b[38;5;28;01mas\u001b[39;00m e:\n",
      "Cell \u001b[1;32mIn[146], line 6\u001b[0m, in \u001b[0;36mfalse_positon\u001b[1;34m(left, right, e, n)\u001b[0m\n\u001b[0;32m      3\u001b[0m \u001b[38;5;28;01mif\u001b[39;00m ( e \u001b[38;5;129;01mis\u001b[39;00m \u001b[38;5;129;01mnot\u001b[39;00m \u001b[38;5;28;01mNone\u001b[39;00m \u001b[38;5;129;01mand\u001b[39;00m n \u001b[38;5;129;01mis\u001b[39;00m \u001b[38;5;129;01mnot\u001b[39;00m \u001b[38;5;28;01mNone\u001b[39;00m ) \u001b[38;5;129;01mor\u001b[39;00m ( e \u001b[38;5;129;01mis\u001b[39;00m \u001b[38;5;28;01mNone\u001b[39;00m \u001b[38;5;129;01mand\u001b[39;00m n \u001b[38;5;129;01mis\u001b[39;00m \u001b[38;5;28;01mNone\u001b[39;00m ):\n\u001b[0;32m      4\u001b[0m     \u001b[38;5;28;01mraise\u001b[39;00m \u001b[38;5;167;01mValueError\u001b[39;00m( \u001b[38;5;124m'\u001b[39m\u001b[38;5;124mYou must provide either the number of iterations or the epsilon margin\u001b[39m\u001b[38;5;124m'\u001b[39m )\n\u001b[1;32m----> 6\u001b[0m \u001b[38;5;28;01mwhile\u001b[39;00m e \u001b[38;5;129;01mis\u001b[39;00m \u001b[38;5;129;01mnot\u001b[39;00m \u001b[38;5;28;01mNone\u001b[39;00m \u001b[38;5;129;01mand\u001b[39;00m \u001b[38;5;28mabs\u001b[39m( function( \u001b[43mmiddle\u001b[49m ) ) \u001b[38;5;241m>\u001b[39m\u001b[38;5;241m=\u001b[39m e:\n\u001b[0;32m      7\u001b[0m     counter \u001b[38;5;241m+\u001b[39m\u001b[38;5;241m=\u001b[39m \u001b[38;5;241m1\u001b[39m\n\u001b[0;32m      8\u001b[0m     middle \u001b[38;5;241m=\u001b[39m weighted_average( left, right, function( left ), function( right ) )\n",
      "\u001b[1;31mUnboundLocalError\u001b[0m: cannot access local variable 'middle' where it is not associated with a value"
     ]
    }
   ],
   "source": [
    "if __name__ == '__main__':\n",
    "    try:\n",
    "        #root = bisection( 0.5, 1, 0.01, None )\n",
    "        #plot_function( -1, 3, 0.5, 1, root)\n",
    "        #display_table()\n",
    "\n",
    "        root = false_positon( 0.5, 1, 0.0005, None )\n",
    "        display_table()\n",
    "        \n",
    "    except ValueError as e:\n",
    "        print( e )"
   ]
  }
 ],
 "metadata": {
  "kernelspec": {
   "display_name": "Python 3",
   "language": "python",
   "name": "python3"
  },
  "language_info": {
   "codemirror_mode": {
    "name": "ipython",
    "version": 3
   },
   "file_extension": ".py",
   "mimetype": "text/x-python",
   "name": "python",
   "nbconvert_exporter": "python",
   "pygments_lexer": "ipython3",
   "version": "3.12.0"
  }
 },
 "nbformat": 4,
 "nbformat_minor": 2
}
