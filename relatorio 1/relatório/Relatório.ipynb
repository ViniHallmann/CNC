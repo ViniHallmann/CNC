{
 "cells": [
  {
   "cell_type": "markdown",
   "metadata": {},
   "source": [
    "<center><h3>Universidade Federal de Pelotas - Cursos de Ciência e Engenharia de Computação</h3></center> \n",
    "<center><h4>Disciplina: Cálculo Numérico Computacional Profa. Larissa A. de Freitas</h4> </center> \n"
   ]
  },
  {
   "cell_type": "markdown",
   "metadata": {},
   "source": [
    "<center><h2><strong>Relatório 1 – Resolução Numérica de Equações Algébricas e Transcendentes<strong></h2> </center> \n",
    "\n",
    "<h3> Aluno: Vinícius Hallmann</h3>"
   ]
  },
  {
   "cell_type": "markdown",
   "metadata": {},
   "source": [
    "### **Imports**"
   ]
  },
  {
   "cell_type": "code",
   "execution_count": 1905,
   "metadata": {},
   "outputs": [],
   "source": [
    "from math import e as euler\n",
    "from math import tan as tan\n",
    "from math import pi as pi\n",
    "from math import asin as asin\n",
    "from math import trunc as trunc\n",
    "from IPython.display import display\n",
    "import time\n",
    "import pandas as pd\n",
    "import numpy as np\n",
    "import matplotlib.pyplot as plt\n",
    "\n"
   ]
  },
  {
   "cell_type": "markdown",
   "metadata": {},
   "source": [
    "## **Tabelas**"
   ]
  },
  {
   "cell_type": "code",
   "execution_count": 1906,
   "metadata": {},
   "outputs": [],
   "source": [
    "REPETITIONS   = 'n\\u207F'\n",
    "LEFT_BOUND    = 'a\\u207F'\n",
    "RIGHT_BOUND   = 'b\\u207F'\n",
    "MIDDLE_POINT  = 'x\\u207F'\n",
    "FX            = 'f(x\\u207F)'\n",
    "FA            = 'f(a\\u207F)'\n",
    "FA_FX         = 'f(a\\u207F) * f(x\\u207F)'\n",
    "\n",
    "table_values_bisection = {\n",
    "    REPETITIONS: [],\n",
    "    LEFT_BOUND: [],\n",
    "    RIGHT_BOUND: [],\n",
    "    MIDDLE_POINT: [],\n",
    "    FX: [],\n",
    "    FA: [],\n",
    "    FA_FX: []\n",
    "}\n",
    "\n",
    "table_values_false_position = {\n",
    "    REPETITIONS: [],\n",
    "    LEFT_BOUND: [],\n",
    "    RIGHT_BOUND: [],\n",
    "    MIDDLE_POINT: [],\n",
    "    FX: []\n",
    "}\n",
    "\n",
    "table_values_newton = {\n",
    "    REPETITIONS: [],\n",
    "    MIDDLE_POINT: [],\n",
    "    FX: []\n",
    "}"
   ]
  },
  {
   "cell_type": "markdown",
   "metadata": {},
   "source": [
    "## **Funções auxiliares**\n"
   ]
  },
  {
   "cell_type": "code",
   "execution_count": 1907,
   "metadata": {},
   "outputs": [],
   "source": [
    "def plot_function(a, b, func, root, miniplot=False):\n",
    "\n",
    "    x_values = np.linspace(-10, 10, 10000)\n",
    "    fig, ax_main = plt.subplots()\n",
    "    \n",
    "    # Configuração do subplot principal\n",
    "    ax_main.tick_params(axis='x', colors='white')\n",
    "    ax_main.tick_params(axis='y', colors='white')\n",
    "    ax_main.axhline(linewidth=1, color='black')\n",
    "    ax_main.axvline(linewidth=1, color='black')\n",
    "    ax_main.scatter(a, 0, color='red', edgecolor='black', zorder=5)\n",
    "    ax_main.scatter(b, 0, color='red', edgecolor='black', zorder=5)\n",
    "    ax_main.set_ylim(-10, 10)\n",
    "\n",
    "    ax_main.grid(True, linestyle='--', alpha=0.7)\n",
    "    ax_main.plot(x_values, np.vectorize(func)(x_values))\n",
    "\n",
    "    if miniplot == False:\n",
    "        plt.show()\n",
    "        return\n",
    "    # Configuração do subplot menor (zoom)\n",
    "    ax_zoom = fig.add_axes([0.6, 0.6, 0.3, 0.3])  \n",
    "    ax_zoom.set_xticks([])\n",
    "    ax_zoom.set_yticks([])\n",
    "    ax_zoom.tick_params()\n",
    "    ax_zoom.axhline(linewidth=1, color='black')\n",
    "    ax_zoom.axvline(linewidth=1, color='black')\n",
    "    ax_zoom.scatter(a, 0, color='red', edgecolor='black', zorder=5)\n",
    "    ax_zoom.scatter(b, 0, color='red', edgecolor='black', zorder=5)\n",
    "    ax_zoom.scatter(root, func(root), color='green', edgecolor='black', zorder=5)\n",
    "    ax_zoom.set_xlim(a - 0.15, b + 0.15)\n",
    "    ax_zoom.set_ylim(a -0.15, b + 0.15)\n",
    "    \n",
    "    ax_zoom.grid(True)\n",
    "    ax_zoom.plot(x_values, np.vectorize(func)(x_values))\n",
    "    \n",
    "    for spine in ax_zoom.spines.values():\n",
    "        spine.set_edgecolor('black')\n",
    "        spine.set_linewidth(1.5)\n",
    "\n",
    "    plt.show()\n",
    "    \n",
    "def average( a, b ):\n",
    "    return ( a + b ) / 2\n",
    "\n",
    "def weighted_average( a, b, f_a, f_b ):\n",
    "    return (  a * f_b  -  b * f_a )  / ( f_b - f_a )\n",
    "\n",
    "def product( x1, x2 ):\n",
    "    return x1 * x2 \n",
    "\n",
    "def display_bissection_table():\n",
    "    df = pd.DataFrame( table_values_bisection )\n",
    "    df.columns = [REPETITIONS, LEFT_BOUND, RIGHT_BOUND, MIDDLE_POINT, FX, FA, FA_FX]\n",
    "    display( df.style.hide( axis=\"index\" ).format( na_rep = None, precision = 4 ) )\n",
    "    clear_table(table_values_bisection)\n",
    "\n",
    "def display_false_position_table():\n",
    "    df = pd.DataFrame( table_values_false_position )\n",
    "    df.columns = [REPETITIONS, LEFT_BOUND, RIGHT_BOUND, MIDDLE_POINT, FX]\n",
    "    display( df.style.hide( axis=\"index\" ).format( na_rep = None, precision = 6 ) )\n",
    "    clear_table(table_values_false_position)\n",
    "\n",
    "def add_values( repetitions= None , a= None , b= None , x= None , f_x= None , f_a= None , f_x_f_a= None  ):\n",
    "    table_values_bisection[REPETITIONS].append( repetitions )\n",
    "    table_values_bisection[LEFT_BOUND].append( a )\n",
    "    table_values_bisection[RIGHT_BOUND].append( b )\n",
    "    table_values_bisection[MIDDLE_POINT].append( x )\n",
    "    table_values_bisection[FX].append( f_x )\n",
    "    table_values_bisection[FA].append( f_a )\n",
    "    if f_x_f_a > 0:\n",
    "        table_values_bisection[FA_FX].append( '> 0' )\n",
    "    elif f_x_f_a < 0:\n",
    "        table_values_bisection[FA_FX].append( '< 0' )\n",
    "\n",
    "def add_false_position_values( repetitions= None , a= None , b= None , x= None , f_x= None ):\n",
    "    table_values_false_position[REPETITIONS].append( repetitions )\n",
    "    table_values_false_position[LEFT_BOUND].append( a )\n",
    "    table_values_false_position[RIGHT_BOUND].append( b )\n",
    "    table_values_false_position[MIDDLE_POINT].append( x )\n",
    "    table_values_false_position[FX].append( f_x )\n",
    "\n",
    "def relative_error( exact, approximate ):\n",
    "    return abs( ( exact - approximate ) / exact ) * 100\n",
    "\n",
    "\n",
    "def clear_table(table):\n",
    "    for key in table:\n",
    "        table[key] = []\n",
    "\n",
    "green_color = \"\\033[32m\"  \n",
    "blue_color = \"\\033[34m\"   \n",
    "red_color = \"\\033[31m\"    \n",
    "reset_color = \"\\033[0m\"   "
   ]
  },
  {
   "cell_type": "markdown",
   "metadata": {},
   "source": [
    "## **Métodos**\n",
    "\n",
    "### **Parametros**\n",
    "\n",
    "<li>left:   Limite a esquerda do intervalo.</li>\n",
    "<li>right:  Limite a direita do intervalo.</li>\n",
    "<li>x0 e x1:     Aproximação inicial.</li>\n",
    "\n",
    "### **Critérios de paradas**\n",
    "<li>e: Epsilon;</li>\n",
    "\n",
    "<li>n: Número de iterações.</li>\n",
    "\n",
    "**Return middle: Raiz aproximada.**\n"
   ]
  },
  {
   "cell_type": "code",
   "execution_count": 1908,
   "metadata": {},
   "outputs": [],
   "source": [
    "def bisection( left , right , e = None, n = None, func = None ):\n",
    "    counter = 0\n",
    "    if e is None and n is None :\n",
    "        raise ValueError( 'You must provide either the number of iterations or the epsilon margin' )\n",
    "    if func is None:\n",
    "        raise ValueError('You must provide a function')\n",
    "    #CASO 1 ONDE SO E DADA A PRECISAO\n",
    "    if e is not None and n is None:\n",
    "        while abs( right - left )  >= e:\n",
    "            counter += 1\n",
    "            middle = average( left, right )\n",
    "            prod = product( func( left ), func( middle ) )\n",
    "            add_values( counter, left, right, middle, func( middle ), func( left ), prod )\n",
    "            if prod > 0:\n",
    "                left = middle\n",
    "            else:\n",
    "                if prod < 0:\n",
    "                    right = middle\n",
    "    #CASO 2 ONDE SO E DADO O NUMERO DE ITERACOES\n",
    "    elif e is None and n is not None:                       \n",
    "        for iteration in range(1, n + 1):\n",
    "            counter += 1\n",
    "            middle = average( left, right )\n",
    "            prod = product( func( left ), func( middle ) )\n",
    "            add_values( counter, left, right, middle, func( middle ), func( left ), prod )\n",
    "            if prod > 0:\n",
    "                left = middle\n",
    "            else:\n",
    "                if prod < 0:\n",
    "                    right = middle\t\n",
    "    #CASO 3 ONDE E DADO O NUMERO DE ITERACOES E A PRECISAO\n",
    "    elif e is not None and n is not None:\n",
    "        for iteration in range(1, n + 1):\n",
    "            counter += 1\n",
    "            middle = average( left, right )\n",
    "            prod = product( func( left ), func( middle ) )\n",
    "            add_values( counter, left, right, middle, func( middle ), func( left ), prod )\n",
    "            if prod > e:\n",
    "                left = middle\n",
    "            else:\n",
    "                if prod < e:\n",
    "                    right = middle\n",
    "    return middle"
   ]
  },
  {
   "cell_type": "code",
   "execution_count": 1909,
   "metadata": {},
   "outputs": [],
   "source": [
    "def false_positon( left, right, e = None, n = None , func = None ):\n",
    "    counter = 0\n",
    "    if e is None and n is None :\n",
    "        raise ValueError( 'You must provide either the number of iterations or the epsilon margin' )\n",
    "    \n",
    "    if func(left) * func(right) >= 0:\n",
    "       raise ValueError( 'The function does not change sign in the interval' )\n",
    "    \n",
    "    #CASO 1 ONDE SO E DADA A PRECISAO\n",
    "    if e is not None and n is None:\n",
    "        while abs( right - left ) >= e:\n",
    "            counter += 1\n",
    "            middle = weighted_average( left, right, func( left ), func( right ) )\n",
    "            if abs(func( middle )) < e:\n",
    "                return middle\n",
    "            prod = product( func( left ), func( middle ) )\n",
    "            add_false_position_values( counter, left, right, middle, func( middle ))\n",
    "            if prod > e:\n",
    "                left = middle\n",
    "            else:\n",
    "                if prod < e:\n",
    "                    right = middle\n",
    "    #CASO 2 ONDE SO E DADO O NUMERO DE ITERACOES\n",
    "    elif n is not None and e is None:\n",
    "        for iteration in range(1, n + 1):\n",
    "            counter += 1\n",
    "            middle = weighted_average( left, right, func( left ), func( right ) )\n",
    "            prod = product( func( left ), func( middle ) )\n",
    "            add_false_position_values( counter, left, right, middle, func( middle ))\n",
    "            if prod > 0:\n",
    "                left = middle\n",
    "            else:\n",
    "                if prod < 0:\n",
    "                    right = middle          \n",
    "    #CASO 3 ONDE E DADO O NUMERO DE ITERACOES E A PRECISAO\n",
    "    elif n is not None and e is not None:\n",
    "        for iteration in range(1, n + 1):\n",
    "            counter += 1\n",
    "            middle = weighted_average( left, right, func( left ), func( right ) )\n",
    "            if abs(func( middle )) < e:\n",
    "                return middle\n",
    "            prod = product( func( left ), func( middle ) )\n",
    "            add_false_position_values( counter, left, right, middle, func( middle ))\n",
    "            if prod > e:\n",
    "                left = middle\n",
    "            else:\n",
    "                if prod < e:\n",
    "                    right = middle\n",
    "    return middle\n",
    "       "
   ]
  },
  {
   "cell_type": "code",
   "execution_count": 1910,
   "metadata": {},
   "outputs": [],
   "source": [
    "def newton_raphson(x0, e=None, n=None, func=None, dfunc=None):\n",
    "    if e is None and n is None:\n",
    "        raise ValueError('You must provide either the number of iterations or the epsilon margin')\n",
    "    if func is None or dfunc is None:\n",
    "        raise ValueError('You must provide a function')\n",
    "    \n",
    "    # CASO 1 ONDE SÓ É DADA A PRECISÃO\n",
    "    if e is not None and n is None:\n",
    "        while abs(func(x0)) >= e:\n",
    "            if dfunc(x0) == 0:\n",
    "                return x0\n",
    "            i = x0 - (func(x0) / dfunc(x0))\n",
    "            if abs(i - x0) < e:\n",
    "                return i\n",
    "            x0 = i\n",
    "\n",
    "    # CASO 2 ONDE SÓ É DADO O NÚMERO DE ITERAÇÕES\n",
    "    elif e is None and n is not None:\n",
    "        for iteration in range(1, n + 1): \n",
    "            if dfunc(x0) == 0:\n",
    "                return x0\n",
    "            i = x0 - (func(x0) / dfunc(x0))\n",
    "            x0 = i\n",
    "\n",
    "    # CASO 3 ONDE É DADO O NÚMERO DE ITERAÇÕES E A PRECISÃO\n",
    "    elif e is not None and n is not None:\n",
    "        for iteration in range(1, n + 1): \n",
    "            if abs(func(x0)) < e:\n",
    "                return x0\n",
    "            if dfunc(x0) == 0:\n",
    "                return x0\n",
    "            i = x0 - ( func(x0) / dfunc(x0) )\n",
    "            \n",
    "            if abs(i - x0) < e:\n",
    "                return i\n",
    "            x0 = i\n",
    "\n",
    "    return x0"
   ]
  },
  {
   "cell_type": "code",
   "execution_count": 1911,
   "metadata": {},
   "outputs": [],
   "source": [
    "def secant(x0, x1, e,  n, func):\n",
    "    if e is None and n is None:\n",
    "        raise ValueError('You must provide either the number of iterations or the epsilon margin')\n",
    "    if func is None:\n",
    "        raise ValueError('You must provide a function')\n",
    "    \n",
    "    #CASO 1 ONDE SO E DADA A PRECISAO\n",
    "    if e is not None and n is None:\n",
    "        while abs(func(x1)) >= e or abs(x1 - x0) >= e:\n",
    "            divisor = func(x1) - func(x0)\n",
    "            if divisor == 0:\n",
    "                return x1\n",
    "            x2 = x1 - (func(x1) * (x1 - x0) / divisor)\n",
    "            x0 = x1\n",
    "            x1 = x2\n",
    "    \n",
    "    #CASO 2 ONDE SO E DADO O NUMERO DE ITERACOES\n",
    "    elif e is None and n is not None:\n",
    "        for iteration in range(1, n):\n",
    "            divisor = func(x1) - func(x0)\n",
    "            if divisor == 0:\n",
    "                return x1\n",
    "            x2 = x1 - (func(x1) * (x1 - x0) / divisor)\n",
    "            x0 = x1\n",
    "            x1 = x2\n",
    "            \n",
    "    #CASO 3 ONDE E DADO O NUMERO DE ITERACOES E A PRECISAO\n",
    "    elif e is not None and n is not None:\n",
    "        \n",
    "        for iteration in range(1, n + 1):\n",
    "            if abs(func(x0)) < e:\n",
    "                return x0\n",
    "            if abs(func(x1)) < e or abs(x1 - x0) < e:\n",
    "                return x1\n",
    "            divisor = func(x1) - func(x0)\n",
    "            if divisor == 0:\n",
    "                return x1\n",
    "            x2 = x1 - (func(x1) * (x1 - x0) / divisor)\n",
    "            if abs(func(x2)) < e or abs(x2 - x1) < e:\n",
    "                return x2\n",
    "            x0 = x1\n",
    "            x1 = x2\n",
    "    return x1\n"
   ]
  },
  {
   "cell_type": "markdown",
   "metadata": {},
   "source": [
    "### **Questão 1** ###\n",
    "\n",
    "A função f(x) = tg(πx) - 6 tem um zero em (1/π) arctg(6) ≈ 0.447431543. Sejam x0 = 0 e x1 = 0.48. Utilize 10 iterações de cada um dos métodos a seguir para encontrar a aproximação dessa raiz. Qual é o método mais eficiente e por quê?\n",
    "\n",
    "a. Método da Bissecção\n",
    "\n",
    "b. Método da Falsa Posição\n",
    "    \n",
    "c. Método da Secante\n",
    "\n",
    "Faça a comparação dos erros relativos percentuais para os métodos para determinar a raiz da função."
   ]
  },
  {
   "cell_type": "markdown",
   "metadata": {},
   "source": [
    "O método da bisseção após 10 iterações, a raiz encontrada é aproximadamente 0.44765625."
   ]
  },
  {
   "cell_type": "code",
   "execution_count": 1912,
   "metadata": {},
   "outputs": [
    {
     "name": "stdout",
     "output_type": "stream",
     "text": [
      "Raiz encontrada pelo método da bisseção: \u001b[32m0.44765625\u001b[0m\n"
     ]
    }
   ],
   "source": [
    "f = lambda x: tan( pi*x ) - 6\n",
    "x0 = 0\n",
    "x1 = 0.48\n",
    "iter = 10\n",
    "try:\n",
    "    start = time.time()\n",
    "    root_bisection = bisection( x0, x1, None, iter, f )\n",
    "    print(f\"Raiz encontrada pelo método da bisseção: {green_color}{root_bisection}{reset_color}\")\n",
    "except ValueError as e:\n",
    "    print( e )"
   ]
  },
  {
   "cell_type": "markdown",
   "metadata": {},
   "source": [
    "O Método da Falsa Posição após 10 iterações, a raiz encontrada é aproximadamente 0.44412066175818793."
   ]
  },
  {
   "cell_type": "code",
   "execution_count": 1913,
   "metadata": {},
   "outputs": [
    {
     "name": "stdout",
     "output_type": "stream",
     "text": [
      "Raiz encontrada pelo método da falsa posição: \u001b[32m0.44412066175818793\u001b[0m\n"
     ]
    }
   ],
   "source": [
    "try:\n",
    "    root_false_position = false_positon ( x0, x1, None, iter, f )\n",
    "    print(f\"Raiz encontrada pelo método da falsa posição: {green_color}{root_false_position}{reset_color}\")\n",
    "except ValueError as e:\n",
    "    print( e )"
   ]
  },
  {
   "cell_type": "markdown",
   "metadata": {},
   "source": [
    "O Método da Secante após 10 iterações, a raiz encontrada é -195.89499482451663. Esse resultado indica que o método não convergiu adequadamente. Esse método utiliza dois pontos iniciais para construir uma reta e encontrar a próxima aproximação da raiz. Devida a natureza dessa função, esse método não consegue convergir para uma raiz."
   ]
  },
  {
   "cell_type": "code",
   "execution_count": 1914,
   "metadata": {},
   "outputs": [
    {
     "data": {
      "image/png": "[encoded data removed]",
      "text/plain": [
       "<Figure size 640x480 with 2 Axes>"
      ]
     },
     "metadata": {},
     "output_type": "display_data"
    }
   ],
   "source": [
    "plot_function(x0, x1, lambda x: tan( pi*x ) - 6, root_bisection, True)"
   ]
  },
  {
   "cell_type": "code",
   "execution_count": 1915,
   "metadata": {},
   "outputs": [
    {
     "name": "stdout",
     "output_type": "stream",
     "text": [
      "Raiz encontrada pelo método da secante: \u001b[31m-195.89499482451663\u001b[0m\n"
     ]
    }
   ],
   "source": [
    "try:\n",
    "    root_sec = secant( x0, x1, None, iter, f )\n",
    "    print(f\"Raiz encontrada pelo método da secante: {red_color}{root_sec}{reset_color}\")\n",
    "except ValueError as e:\n",
    "    print( e )"
   ]
  },
  {
   "cell_type": "markdown",
   "metadata": {},
   "source": [
    "**Comparação dos Erros Relativos Percentuais**\n",
    "\n",
    "Para comparar a eficiência dos métodos, analisamos os erros relativos percentuais em relação à raiz verdadeira = 0.447431543.\n",
    "Com base nos resultados dos erros relativos, o método da Bissecção é o que possui o menor erro relativo percentual, sendo de 0.050222%. O método da Falsa Posição tambem conseguiu convergir para uma raiz porem com um erro relativo maior de 0.739975%. E o método da secante não conseguiu convergir para uma raiz de forma certa, resultando em um erro relativo de 43882.115474%. Portanto, para esta função e intervalo específicos, o Método da Bissecção é o mais eficiente devido à sua garantia de convergência e menor erro relativo percentual após 10 iterações."
   ]
  },
  {
   "cell_type": "code",
   "execution_count": 1916,
   "metadata": {},
   "outputs": [
    {
     "name": "stdout",
     "output_type": "stream",
     "text": [
      "Erro relativo percentual - Método da Bisseção: \u001b[32m0.050222\u001b[0m%\n",
      "Erro relativo percentual - Método da Falsa Posição: \u001b[32m0.739975\u001b[0m%\n",
      "Erro relativo percentual - Método da Secante: \u001b[32m43882.115474\u001b[0m%\n"
     ]
    }
   ],
   "source": [
    "root = 0.447431543\n",
    "erro_bissection     = relative_error(root, root_bisection)\n",
    "erro_false_position = relative_error(root, root_false_position)\n",
    "erro_secante        = relative_error(root, root_sec)\n",
    "\n",
    "print(f\"Erro relativo percentual - Método da Bisseção: {green_color}{erro_bissection:.6f}{reset_color}%\")\n",
    "print(f\"Erro relativo percentual - Método da Falsa Posição: {green_color}{erro_false_position:.6f}{reset_color}%\")\n",
    "print(f\"Erro relativo percentual - Método da Secante: {green_color}{erro_secante:.6f}{reset_color}%\")"
   ]
  },
  {
   "cell_type": "markdown",
   "metadata": {},
   "source": [
    "---"
   ]
  },
  {
   "cell_type": "markdown",
   "metadata": {},
   "source": [
    "### **Questão 2** ###\n",
    "\n",
    "O polinômio de quarto grau f (x) = 230x4 + 18x3 + 9x2- 221x - 9, tem dois zeros reais, um em [-1, 0] e outro em [0, 1]. Tente encontrar a aproximação desses zeros com a precisão de 10-6, utilizando:\n",
    "\n",
    "a. Método da Falsa Posição\n",
    "\n",
    "b. Método da Secante\n",
    "\n",
    "c. Método de Newton-Raphson/Tangente\n",
    "\n",
    "d. Plote um gráfico para explicar a diferença entre os resultados obtidos pelos Métodos da Falsa Posição e da Secante \n",
    "\n",
    "Utilize as extremidades de cada intervalo como aproximações iniciais em (a) e\n",
    "(b) e os pontos médios como as aproximações iniciais em (c)."
   ]
  },
  {
   "cell_type": "code",
   "execution_count": 1917,
   "metadata": {},
   "outputs": [],
   "source": [
    "f = lambda x: 230*x**4 + 18*x**3 + 9*x**2 - 221*x - 9\n",
    "df = lambda x: 920*x**3 + 54*x**2 + 18*x - 221\n",
    "a = -1\n",
    "b = 0\n",
    "c = (a + b) / 2\n",
    "tol = 10**-6"
   ]
  },
  {
   "cell_type": "markdown",
   "metadata": {},
   "source": [
    "O método da Falsa Posição com tolerancia de 0.000001 a raiz encontrada é aproxidamente -0.040659284770926674"
   ]
  },
  {
   "cell_type": "code",
   "execution_count": 1918,
   "metadata": {},
   "outputs": [
    {
     "name": "stdout",
     "output_type": "stream",
     "text": [
      "Raiz encontrada pelo método da falsa posição: \u001b[32m-0.040659284770926674\u001b[0m\n"
     ]
    }
   ],
   "source": [
    "try:\n",
    "    root_false_position1 = false_positon( a, b, tol, None, f )\n",
    "    print(f\"Raiz encontrada pelo método da falsa posição: {green_color}{root_false_position1}{reset_color}\")\n",
    "except ValueError as e:\n",
    "    print(e)"
   ]
  },
  {
   "cell_type": "markdown",
   "metadata": {},
   "source": [
    "O método da Secante com tolerancia de 0.000001 a raiz encontrada é aproxidamente -0.040659288315725135"
   ]
  },
  {
   "cell_type": "code",
   "execution_count": 1919,
   "metadata": {},
   "outputs": [
    {
     "name": "stdout",
     "output_type": "stream",
     "text": [
      "Raiz encontrada pelo método da secante: \u001b[32m-0.040659288315725135\u001b[0m\n"
     ]
    }
   ],
   "source": [
    "try:\n",
    "    root_sec1            = secant( a, b, tol, None, f )\n",
    "    print(f\"Raiz encontrada pelo método da secante: {green_color}{root_sec1}{reset_color}\")\n",
    "except ValueError as e:\n",
    "    print(e)"
   ]
  },
  {
   "cell_type": "markdown",
   "metadata": {},
   "source": [
    "O método de Newton Raphson com tolerancia de 0.000001 a raiz encontrada é aproxidamente -0.04065928831575899"
   ]
  },
  {
   "cell_type": "code",
   "execution_count": 1920,
   "metadata": {},
   "outputs": [
    {
     "name": "stdout",
     "output_type": "stream",
     "text": [
      "Raiz encontrada pelo método de Newton-Raphson: \u001b[32m-0.04065928831575899\u001b[0m\n",
      "\n"
     ]
    }
   ],
   "source": [
    "try:\n",
    "    root_newton1         = newton_raphson( c, tol, 10, f, df)\n",
    "    print(f\"Raiz encontrada pelo método de Newton-Raphson: {green_color}{root_newton1}{reset_color}\\n\")\n",
    "except ValueError as e:\n",
    "    print(e)"
   ]
  },
  {
   "cell_type": "markdown",
   "metadata": {},
   "source": [
    "No primeiro intervalo entre [-1,0] os 3 métodos conseguiram encontrar valores bem próximos da raiz da função"
   ]
  },
  {
   "cell_type": "code",
   "execution_count": 1921,
   "metadata": {},
   "outputs": [],
   "source": [
    "a = 0\n",
    "b = 1\n",
    "c = (a + b) / 2"
   ]
  },
  {
   "cell_type": "markdown",
   "metadata": {},
   "source": [
    "O método da Falsa Posição no segundo intervalo retorna uma raiz encontrada em aproxidamente 0.9623983842387566. Como dito no enunciado, essa função possui dois zeros reais, sendo um em cada intervalo e o método da Falsa Posição consegue achar os dois."
   ]
  },
  {
   "cell_type": "code",
   "execution_count": 1922,
   "metadata": {},
   "outputs": [
    {
     "name": "stdout",
     "output_type": "stream",
     "text": [
      "Raiz encontrada pelo método da falsa posição: \u001b[32m0.9623983842387566\u001b[0m\n"
     ]
    }
   ],
   "source": [
    "try:\n",
    "    root_false_position2 = false_positon( a, b, tol, None, f )\n",
    "    print(f\"Raiz encontrada pelo método da falsa posição: {green_color}{root_false_position2}{reset_color}\")\n",
    "except ValueError as e:\n",
    "    print(e)"
   ]
  },
  {
   "cell_type": "markdown",
   "metadata": {},
   "source": [
    "A raiz encontrada pelo método da Secante nesse segundo intervalo é de aproximadamente = -0.04065928831557162"
   ]
  },
  {
   "cell_type": "code",
   "execution_count": 1923,
   "metadata": {},
   "outputs": [
    {
     "name": "stdout",
     "output_type": "stream",
     "text": [
      "Raiz encontrada pelo método da secante: \u001b[32m-0.04065928831557162\u001b[0m\n"
     ]
    }
   ],
   "source": [
    "try:\n",
    "    root_sec2            = secant( a, b, tol, None, f )\n",
    "    print(f\"Raiz encontrada pelo método da secante: {green_color}{root_sec2}{reset_color}\")\n",
    "except ValueError as e:\n",
    "    print(e)"
   ]
  },
  {
   "cell_type": "markdown",
   "metadata": {},
   "source": [
    "A raiz encontrada pelo método de Newton Raphson nesse segundo intervalo é de aproximadamente = -0.04065928834533494"
   ]
  },
  {
   "cell_type": "code",
   "execution_count": 1924,
   "metadata": {},
   "outputs": [
    {
     "name": "stdout",
     "output_type": "stream",
     "text": [
      "Raiz encontrada pelo método de Newton-Raphson: \u001b[32m-0.04065928834533494\u001b[0m\n",
      "\n"
     ]
    }
   ],
   "source": [
    "try:\n",
    "    root_newton2         = newton_raphson( 0.5, tol, None, f, df)\n",
    "    print(f\"Raiz encontrada pelo método de Newton-Raphson: {green_color}{root_newton2}{reset_color}\\n\")\n",
    "except ValueError as e:\n",
    "    print(e)"
   ]
  },
  {
   "cell_type": "markdown",
   "metadata": {},
   "source": [
    "**Diferença dos resultados obtidos**\n",
    "\n"
   ]
  },
  {
   "cell_type": "markdown",
   "metadata": {},
   "source": [
    "Gráficos com as raizes encontradas pelo método da Falsa Posição"
   ]
  },
  {
   "cell_type": "code",
   "execution_count": 1925,
   "metadata": {},
   "outputs": [
    {
     "data": {
      "image/png": "[encoded data removed]",
      "text/plain": [
       "<Figure size 640x480 with 2 Axes>"
      ]
     },
     "metadata": {},
     "output_type": "display_data"
    },
    {
     "data": {
      "image/png": "[encoded data removed]",
      "text/plain": [
       "<Figure size 640x480 with 2 Axes>"
      ]
     },
     "metadata": {},
     "output_type": "display_data"
    }
   ],
   "source": [
    "plot_function(-1, 0, f, root_false_position1, True)\n",
    "plot_function(0, 1, f, root_false_position2, True)"
   ]
  },
  {
   "cell_type": "markdown",
   "metadata": {},
   "source": [
    "Gráficos com as raizes encontradas pelo Método da Secante"
   ]
  },
  {
   "cell_type": "code",
   "execution_count": 1926,
   "metadata": {},
   "outputs": [
    {
     "data": {
      "image/png": "[encoded data removed]",
      "text/plain": [
       "<Figure size 640x480 with 2 Axes>"
      ]
     },
     "metadata": {},
     "output_type": "display_data"
    },
    {
     "data": {
      "image/png": "[encoded data removed]",
      "text/plain": [
       "<Figure size 640x480 with 2 Axes>"
      ]
     },
     "metadata": {},
     "output_type": "display_data"
    }
   ],
   "source": [
    "plot_function(-1, 0, f, root_sec1, True)\n",
    "plot_function(0, 1, f, root_sec2, True)"
   ]
  },
  {
   "cell_type": "markdown",
   "metadata": {},
   "source": [
    "Podemos ver que o método da Falsa Posição encontrou a raiz no intervalo positivo esperado, enquanto o método da Secante encontrou a raiz negativa, possivelmente devido à escolha inadequada das aproximações iniciais, por exemplo, quando mudamos o X0 para = 0.1 no segundo intervalo(0,1) no método da secante faz com que ele ache a raiz dentro do intervalo. Como já dito em aula os métodos podem achar ou não a raiz e isso depende de alguns fatores e novamente nesse caso a estimativa inicial impactou no resultado final do método da secante.\n"
   ]
  },
  {
   "cell_type": "markdown",
   "metadata": {},
   "source": [
    "---"
   ]
  },
  {
   "cell_type": "markdown",
   "metadata": {},
   "source": [
    "### **Questão 3** ###\n",
    "\n",
    "Uma gamela de comprimento L tem seção transversal semicircular com raio r. Quando a gamela está cheia com água até uma distância h do topo, o volume V de água é V = L [0,5πr²- r²arcsen(h/r) - h(r² – h²)½].\n",
    "\n",
    "![alt text](relatorio 1/images/imagem_relatorio.PNG)\n",
    "\n",
    "Suponha que L = 10 pés, r = 1 pé e V = 12,4 pés. Usando o Método da Bissecção, determine a profundidade da água na gamela com precisão de 0,01 pé."
   ]
  },
  {
   "cell_type": "markdown",
   "metadata": {},
   "source": [
    "Utilizando o Método da Bissecção, a profundidade h encontrada é aproximadamente 0.1640625 pés. Para descobrirmos a profundidade da água, podemos fazer r - h e o resultado será 0.8359375"
   ]
  },
  {
   "cell_type": "code",
   "execution_count": 1927,
   "metadata": {},
   "outputs": [
    {
     "name": "stdout",
     "output_type": "stream",
     "text": [
      "Raiz encontrada pelo método da bisseção: \u001b[32m0.1640625\u001b[0m\n",
      "Substituindo o valor de h na função temos: \u001b[32m-0.004149324142395772\u001b[0m\n",
      "Profundiade: \u001b[32m0.8359375\u001b[0m\n"
     ]
    }
   ],
   "source": [
    "f = lambda h: asin(h) + h*(1-h**2)**0.5 + 1.24 - 0.5*pi\n",
    "r = 1\n",
    "v = 12.4\n",
    "l = 10\n",
    "tol = 10**-2\n",
    "iter = 10\n",
    "a = 0\n",
    "b = 1\n",
    "try:\n",
    "    root = bisection( a, b, tol, None, f )\n",
    "    print(f\"Raiz encontrada pelo método da bisseção: {green_color}{root}{reset_color}\\nSubstituindo o valor de h na função temos: {green_color}{f(root)}{reset_color}\\nProfundiade: {green_color}{r - root}{reset_color}\")\n",
    "except ValueError as e:\n",
    "    print( e )\n"
   ]
  },
  {
   "cell_type": "markdown",
   "metadata": {},
   "source": [
    "### **Questão 4** ###\n",
    "\n",
    "Você está projetando um tanque esférico para armazenar água para uma pequena cidade.\n",
    "\n",
    "![alt text](relatorio 1/images/imagem_relatorio2.PNG)\n",
    "\n",
    "O volume de líquido que ele pode armazenar pode ser calculado por V = (π h² [3R−h]/3)\n",
    "\n",
    "Onde V é o volume (m³), h é a profundidade de água no tanque (m) e R é o raio do tanque (m). Se R = 3m, até qual profundidade o tanque deve ser enchido para conter 30 m³? Use 3 iterações do Método do Newton-Raphson/Tangente para obter a resposta. "
   ]
  },
  {
   "cell_type": "markdown",
   "metadata": {},
   "source": [
    "Utilizando o método de Newton-Raphson, após 3 iterações, a profundidade h encontrada é aproximadamente 2.0269 m. Portanto a profundidade para que o tanque contenha 30 m³ de água é 2.0269."
   ]
  },
  {
   "cell_type": "code",
   "execution_count": 1928,
   "metadata": {},
   "outputs": [
    {
     "name": "stdout",
     "output_type": "stream",
     "text": [
      "Raiz encontrada: \u001b[32m2.0269189318856173\u001b[0m\n",
      "Substituindo a raiz encontrada na função f(x) temos: \u001b[32m0.0003340446665838215\u001b[0m\n"
     ]
    }
   ],
   "source": [
    "f = lambda h: (pi*h**2*(3*r-h)/3) - v\n",
    "df = lambda h: pi*h*(-h + 6)\n",
    "r = 3\n",
    "v = 30\n",
    "tol = 0.001\n",
    "try:\n",
    "    newton_raphson_root = newton_raphson(1, tol, 3, f, df)\n",
    "    print(f\"Raiz encontrada: {green_color}{newton_raphson_root}{reset_color}\\nSubstituindo a raiz encontrada na função f(x) temos: {green_color}{f(newton_raphson_root)}{reset_color}\")\n",
    "\n",
    "except ValueError as e:\n",
    "    print( e )"
   ]
  },
  {
   "cell_type": "markdown",
   "metadata": {},
   "source": [
    "### **Questão 5** ###\n",
    "\n",
    "O Método de Newton-Raphson/Tangente pode não ser convergente. Verifique que, para as funções e estimativas iniciais mostradas em (a)e (b), o método não funciona.\n",
    "\n",
    "a. f(x) = 1/10 + xe⁻ˣ com x₁ = 2\n",
    "\n",
    "b. f(x) = x³ - x - 3  com x₁ = -3"
   ]
  },
  {
   "cell_type": "markdown",
   "metadata": {},
   "source": [
    "Na Questão A, utilizando uma estimativa inicial x1=2, o método de Newton-Raphson não convergiu para a raiz. Isso ocorre porque o método requer que a estimativa inicial x1 esteja suficientemente próxima da raiz. Uma melhor escolha para x1\n",
    "seria 0, que levaria à raiz da função em -0.09134885618508723."
   ]
  },
  {
   "cell_type": "code",
   "execution_count": 1929,
   "metadata": {},
   "outputs": [
    {
     "name": "stdout",
     "output_type": "stream",
     "text": [
      "Raiz encontrada: \u001b[31m7.393684957031746e+47\u001b[0m usando x1 = 2 \n",
      "Substituindo a raiz encontrada na função f(x) temos: \u001b[31m0.1\u001b[0m\n",
      "\n",
      "Raiz encontrada: \u001b[32m-0.09134885618508723\u001b[0m usando x1 = 0 \n",
      "Substituindo a raiz encontrada na função f(x) temos: \u001b[32m-8.648054353421752e-05\u001b[0m\n"
     ]
    }
   ],
   "source": [
    "f = lambda x: 1/10 + x*euler**-x\n",
    "df = lambda x: -x*euler**-x + euler**-x\n",
    "tol = 0.001\n",
    "iter = 10\n",
    "try:\n",
    "    root_a_2 = newton_raphson (2, tol, iter, f, df)\n",
    "    print(f\"Raiz encontrada: {red_color}{root_a_2}{reset_color} usando x1 = 2 \\nSubstituindo a raiz encontrada na função f(x) temos: {red_color}{f(root_a_2)}{reset_color}\\n\")\n",
    "\n",
    "    root_a_0 = newton_raphson (0, tol, iter, f, df)\n",
    "    print(f\"Raiz encontrada: {green_color}{root_a_0}{reset_color} usando x1 = 0 \\nSubstituindo a raiz encontrada na função f(x) temos: {green_color}{f(root_a_0)}{reset_color}\")\n",
    "\n",
    "\n",
    "except ValueError as e:\n",
    "    print( e )"
   ]
  },
  {
   "cell_type": "markdown",
   "metadata": {},
   "source": [
    "Na Questão B, utilizando uma estimativa inicial x1=−3, o método também não conseguiu convergir. Em ambos os casos, a escolha inadequada da estimativa inicial resultou na não convergência para a raiz. Portanto, é fundamental escolher uma estimativa inicial x0 que esteja próxima da raiz verdadeira para garantir a convergência do método de Newton-Raphson."
   ]
  },
  {
   "cell_type": "code",
   "execution_count": 1930,
   "metadata": {},
   "outputs": [
    {
     "name": "stdout",
     "output_type": "stream",
     "text": [
      "Raiz encontrada: \u001b[31m-1.1474851932167662\u001b[0m usando x1 = -3\n",
      "Substituindo a raiz encontrada na função f(x) temos: \u001b[31m-3.3634341136398707\u001b[0m\n",
      "\n",
      "Raiz encontrada: \u001b[32m1.671702569747502\u001b[0m usando x1 = 2\n",
      "Substituindo a raiz encontrada na função: \u001b[32m1.9848200399685823e-05\u001b[0m\n"
     ]
    }
   ],
   "source": [
    "f = lambda x: x**3 - x - 3\n",
    "df = lambda x: 3*x**2 - 1\n",
    "tol = 0.0001\n",
    "iter = 10\n",
    "try:\n",
    "    root_b_3 = newton_raphson (-3, tol, iter, f, df)\n",
    "    print(f\"Raiz encontrada: {red_color}{root_b_3}{reset_color} usando x1 = -3\\nSubstituindo a raiz encontrada na função f(x) temos: {red_color}{f(root_b_3)}{reset_color}\\n\")\n",
    "\n",
    "    root_b_2 = newton_raphson (2, tol, iter, f, df)\n",
    "    print(f\"Raiz encontrada: {green_color}{root_b_2}{reset_color} usando x1 = 2\\nSubstituindo a raiz encontrada na função: {green_color}{root_b_2**3 - root_b_2 - 3}{reset_color}\")\n",
    "except ValueError as e:\n",
    "    print( e )"
   ]
  }
 ],
 "metadata": {
  "kernelspec": {
   "display_name": "Python 3",
   "language": "python",
   "name": "python3"
  },
  "language_info": {
   "codemirror_mode": {
    "name": "ipython",
    "version": 3
   },
   "file_extension": ".py",
   "mimetype": "text/x-python",
   "name": "python",
   "nbconvert_exporter": "python",
   "pygments_lexer": "ipython3",
   "version": "3.12.0"
  }
 },
 "nbformat": 4,
 "nbformat_minor": 2
}
